{
 "cells": [
  {
   "cell_type": "code",
   "execution_count": 2,
   "id": "58e0b6bb",
   "metadata": {},
   "outputs": [],
   "source": [
    "import pandas as pd\n",
    "import numpy as np\n",
    "import seaborn as sns\n",
    "import matplotlib.pyplot as plt\n",
    "plt.style.use('ggplot')\n",
    "%matplotlib inline"
   ]
  },
  {
   "cell_type": "code",
   "execution_count": 3,
   "id": "b78e8b62",
   "metadata": {},
   "outputs": [
    {
     "data": {
      "text/html": [
       "<div>\n",
       "<style scoped>\n",
       "    .dataframe tbody tr th:only-of-type {\n",
       "        vertical-align: middle;\n",
       "    }\n",
       "\n",
       "    .dataframe tbody tr th {\n",
       "        vertical-align: top;\n",
       "    }\n",
       "\n",
       "    .dataframe thead th {\n",
       "        text-align: right;\n",
       "    }\n",
       "</style>\n",
       "<table border=\"1\" class=\"dataframe\">\n",
       "  <thead>\n",
       "    <tr style=\"text-align: right;\">\n",
       "      <th></th>\n",
       "      <th>battery_power</th>\n",
       "      <th>blue</th>\n",
       "      <th>clock_speed</th>\n",
       "      <th>dual_sim</th>\n",
       "      <th>fc</th>\n",
       "      <th>four_g</th>\n",
       "      <th>int_memory</th>\n",
       "      <th>m_dep</th>\n",
       "      <th>mobile_wt</th>\n",
       "      <th>n_cores</th>\n",
       "      <th>...</th>\n",
       "      <th>px_height</th>\n",
       "      <th>px_width</th>\n",
       "      <th>ram</th>\n",
       "      <th>sc_h</th>\n",
       "      <th>sc_w</th>\n",
       "      <th>talk_time</th>\n",
       "      <th>three_g</th>\n",
       "      <th>touch_screen</th>\n",
       "      <th>wifi</th>\n",
       "      <th>price_range</th>\n",
       "    </tr>\n",
       "  </thead>\n",
       "  <tbody>\n",
       "    <tr>\n",
       "      <th>0</th>\n",
       "      <td>842</td>\n",
       "      <td>0.0</td>\n",
       "      <td>2.2</td>\n",
       "      <td>0.0</td>\n",
       "      <td>1</td>\n",
       "      <td>0</td>\n",
       "      <td>7.0</td>\n",
       "      <td>0.6</td>\n",
       "      <td>188</td>\n",
       "      <td>2</td>\n",
       "      <td>...</td>\n",
       "      <td>20.0</td>\n",
       "      <td>756</td>\n",
       "      <td>2,549.00</td>\n",
       "      <td>9</td>\n",
       "      <td>7</td>\n",
       "      <td>19</td>\n",
       "      <td>0</td>\n",
       "      <td>0</td>\n",
       "      <td>1</td>\n",
       "      <td>1.0</td>\n",
       "    </tr>\n",
       "    <tr>\n",
       "      <th>1</th>\n",
       "      <td>1021</td>\n",
       "      <td>1.0</td>\n",
       "      <td>0.5</td>\n",
       "      <td>1.0</td>\n",
       "      <td>0</td>\n",
       "      <td>1</td>\n",
       "      <td>53.0</td>\n",
       "      <td>0.7</td>\n",
       "      <td>136</td>\n",
       "      <td>3</td>\n",
       "      <td>...</td>\n",
       "      <td>905.0</td>\n",
       "      <td>1988</td>\n",
       "      <td>2,631.00</td>\n",
       "      <td>17</td>\n",
       "      <td>3</td>\n",
       "      <td>7</td>\n",
       "      <td>1</td>\n",
       "      <td>1</td>\n",
       "      <td>0</td>\n",
       "      <td>2.0</td>\n",
       "    </tr>\n",
       "    <tr>\n",
       "      <th>2</th>\n",
       "      <td>563</td>\n",
       "      <td>1.0</td>\n",
       "      <td>0.5</td>\n",
       "      <td>1.0</td>\n",
       "      <td>2</td>\n",
       "      <td>1</td>\n",
       "      <td>41.0</td>\n",
       "      <td>0.9</td>\n",
       "      <td>145</td>\n",
       "      <td>5</td>\n",
       "      <td>...</td>\n",
       "      <td>1263.0</td>\n",
       "      <td>1716</td>\n",
       "      <td>2,603.00</td>\n",
       "      <td>11</td>\n",
       "      <td>2</td>\n",
       "      <td>9</td>\n",
       "      <td>1</td>\n",
       "      <td>1</td>\n",
       "      <td>0</td>\n",
       "      <td>2.0</td>\n",
       "    </tr>\n",
       "    <tr>\n",
       "      <th>3</th>\n",
       "      <td>615</td>\n",
       "      <td>1.0</td>\n",
       "      <td>2.5</td>\n",
       "      <td>0.0</td>\n",
       "      <td>0</td>\n",
       "      <td>0</td>\n",
       "      <td>10.0</td>\n",
       "      <td>0.8</td>\n",
       "      <td>131</td>\n",
       "      <td>6</td>\n",
       "      <td>...</td>\n",
       "      <td>1216.0</td>\n",
       "      <td>1786</td>\n",
       "      <td>2,769.00</td>\n",
       "      <td>16</td>\n",
       "      <td>8</td>\n",
       "      <td>11</td>\n",
       "      <td>1</td>\n",
       "      <td>0</td>\n",
       "      <td>0</td>\n",
       "      <td>2.0</td>\n",
       "    </tr>\n",
       "    <tr>\n",
       "      <th>4</th>\n",
       "      <td>1821</td>\n",
       "      <td>1.0</td>\n",
       "      <td>1.2</td>\n",
       "      <td>0.0</td>\n",
       "      <td>13</td>\n",
       "      <td>1</td>\n",
       "      <td>44.0</td>\n",
       "      <td>0.6</td>\n",
       "      <td>141</td>\n",
       "      <td>2</td>\n",
       "      <td>...</td>\n",
       "      <td>1208.0</td>\n",
       "      <td>1212</td>\n",
       "      <td>1,411.00</td>\n",
       "      <td>8</td>\n",
       "      <td>2</td>\n",
       "      <td>15</td>\n",
       "      <td>1</td>\n",
       "      <td>1</td>\n",
       "      <td>0</td>\n",
       "      <td>1.0</td>\n",
       "    </tr>\n",
       "  </tbody>\n",
       "</table>\n",
       "<p>5 rows × 21 columns</p>\n",
       "</div>"
      ],
      "text/plain": [
       "  battery_power  blue  clock_speed  dual_sim  fc  four_g  int_memory  m_dep  \\\n",
       "0           842   0.0          2.2       0.0   1       0         7.0    0.6   \n",
       "1          1021   1.0          0.5       1.0   0       1        53.0    0.7   \n",
       "2           563   1.0          0.5       1.0   2       1        41.0    0.9   \n",
       "3           615   1.0          2.5       0.0   0       0        10.0    0.8   \n",
       "4          1821   1.0          1.2       0.0  13       1        44.0    0.6   \n",
       "\n",
       "  mobile_wt  n_cores  ...  px_height  px_width       ram sc_h  sc_w  \\\n",
       "0       188        2  ...       20.0       756  2,549.00    9     7   \n",
       "1       136        3  ...      905.0      1988  2,631.00   17     3   \n",
       "2       145        5  ...     1263.0      1716  2,603.00   11     2   \n",
       "3       131        6  ...     1216.0      1786  2,769.00   16     8   \n",
       "4       141        2  ...     1208.0      1212  1,411.00    8     2   \n",
       "\n",
       "   talk_time  three_g  touch_screen  wifi  price_range  \n",
       "0         19        0             0     1          1.0  \n",
       "1          7        1             1     0          2.0  \n",
       "2          9        1             1     0          2.0  \n",
       "3         11        1             0     0          2.0  \n",
       "4         15        1             1     0          1.0  \n",
       "\n",
       "[5 rows x 21 columns]"
      ]
     },
     "execution_count": 3,
     "metadata": {},
     "output_type": "execute_result"
    }
   ],
   "source": [
    "df = pd.read_csv(\"D:/Datasets/new/Mobile price New - Mobile price New.csv\")\n",
    "df.head()"
   ]
  },
  {
   "cell_type": "markdown",
   "id": "3314d324",
   "metadata": {},
   "source": [
    "### Understanding the dataset"
   ]
  },
  {
   "cell_type": "code",
   "execution_count": 4,
   "id": "91aa4148",
   "metadata": {},
   "outputs": [
    {
     "data": {
      "text/plain": [
       "(2001, 21)"
      ]
     },
     "execution_count": 4,
     "metadata": {},
     "output_type": "execute_result"
    }
   ],
   "source": [
    "# shape of the dataset\n",
    "\n",
    "df.shape"
   ]
  },
  {
   "cell_type": "code",
   "execution_count": 5,
   "id": "7cf00d53",
   "metadata": {},
   "outputs": [
    {
     "data": {
      "text/plain": [
       "battery_power     object\n",
       "blue             float64\n",
       "clock_speed      float64\n",
       "dual_sim         float64\n",
       "fc                 int64\n",
       "four_g             int64\n",
       "int_memory       float64\n",
       "m_dep            float64\n",
       "mobile_wt         object\n",
       "n_cores            int64\n",
       "pc               float64\n",
       "px_height        float64\n",
       "px_width          object\n",
       "ram               object\n",
       "sc_h               int64\n",
       "sc_w               int64\n",
       "talk_time          int64\n",
       "three_g            int64\n",
       "touch_screen       int64\n",
       "wifi               int64\n",
       "price_range      float64\n",
       "dtype: object"
      ]
     },
     "execution_count": 5,
     "metadata": {},
     "output_type": "execute_result"
    }
   ],
   "source": [
    "# data types of each column\n",
    "\n",
    "df.dtypes"
   ]
  },
  {
   "cell_type": "markdown",
   "id": "669a8d78",
   "metadata": {},
   "source": [
    "### Data Cleaning "
   ]
  },
  {
   "cell_type": "code",
   "execution_count": 6,
   "id": "803e6edc",
   "metadata": {},
   "outputs": [
    {
     "data": {
      "text/plain": [
       "battery_power    2\n",
       "blue             1\n",
       "clock_speed      3\n",
       "dual_sim         1\n",
       "fc               0\n",
       "four_g           0\n",
       "int_memory       1\n",
       "m_dep            1\n",
       "mobile_wt        1\n",
       "n_cores          0\n",
       "pc               1\n",
       "px_height        1\n",
       "px_width         2\n",
       "ram              0\n",
       "sc_h             0\n",
       "sc_w             0\n",
       "talk_time        0\n",
       "three_g          0\n",
       "touch_screen     0\n",
       "wifi             0\n",
       "price_range      2\n",
       "dtype: int64"
      ]
     },
     "execution_count": 6,
     "metadata": {},
     "output_type": "execute_result"
    }
   ],
   "source": [
    "# checking any missing values in the dataset\n",
    "\n",
    "df.isnull().sum()"
   ]
  },
  {
   "cell_type": "markdown",
   "id": "0e73dd9e",
   "metadata": {},
   "source": [
    "##### Dealing with Missing value "
   ]
  },
  {
   "cell_type": "code",
   "execution_count": 7,
   "id": "0a0b50cd",
   "metadata": {},
   "outputs": [],
   "source": [
    "# as the percentage of null values is less ---> dropping the rows\n",
    "\n",
    "df.dropna(inplace=True)"
   ]
  },
  {
   "cell_type": "markdown",
   "id": "f079e076",
   "metadata": {},
   "source": [
    "##### Dealing with noise value"
   ]
  },
  {
   "cell_type": "code",
   "execution_count": 8,
   "id": "e8cf8dd2",
   "metadata": {},
   "outputs": [
    {
     "data": {
      "text/plain": [
       "array(['188', '136', '145', '131', '141', '139', '187', '174', '182',\n",
       "       '177', '159', '185', '121', '101', '81', '156', '199', '114',\n",
       "       '111', '132', '143', '96', '200', '88', '150', '107', '100', '157',\n",
       "       '160', '119', '152', '166', '110', '118', '164', '196', '162',\n",
       "       '198', '127', '109', '102', '104', '148', '180', '128', '134',\n",
       "       '144', '168', '155', '165', '80', '138', '142', '90', '197', '172',\n",
       "       '116', '85', '163', '178', '171', '103', '83', '140', '194', '146',\n",
       "       '192', '106', '135', '153', '89', '82', '130', '189', '181', '99',\n",
       "       '184', '195', '108', '133', '179', '147', '137', '190', '176',\n",
       "       '84', '97', '124', '183', '93', '113', '92', '95', '151', '117',\n",
       "       '94', '173', '105', '115', '91', '112', '123', '129', '154', '191',\n",
       "       '175', '86', '98', '125', '126', '158', '170', '87', '161', '193',\n",
       "       '169', '120', '149', '186', 'Realme', '122', '167'], dtype=object)"
      ]
     },
     "execution_count": 8,
     "metadata": {},
     "output_type": "execute_result"
    }
   ],
   "source": [
    "# unique values in the \"mobile_wt\" column\n",
    "\n",
    "df['mobile_wt'].unique()"
   ]
  },
  {
   "cell_type": "code",
   "execution_count": 9,
   "id": "7ccad615",
   "metadata": {},
   "outputs": [],
   "source": [
    "df = df[df['mobile_wt']!='Realme']"
   ]
  },
  {
   "cell_type": "code",
   "execution_count": 10,
   "id": "9dcd3431",
   "metadata": {},
   "outputs": [],
   "source": [
    "df['battery_power'] = pd.to_numeric(df['battery_power'],errors ='coerce')\n",
    "df['mobile_wt'] = pd.to_numeric(df['mobile_wt'],errors ='coerce')\n",
    "df['px_width'] = pd.to_numeric(df['px_width'], errors='coerce')"
   ]
  },
  {
   "cell_type": "code",
   "execution_count": 11,
   "id": "fab3ab4b",
   "metadata": {},
   "outputs": [],
   "source": [
    "df['ram'] = df['ram'].apply(lambda x: x.replace(',', '') if ',' in x else x)"
   ]
  },
  {
   "cell_type": "code",
   "execution_count": 12,
   "id": "4a57b7f4",
   "metadata": {},
   "outputs": [],
   "source": [
    "df['ram'] = pd.to_numeric(df['ram'], errors='coerce')"
   ]
  },
  {
   "cell_type": "markdown",
   "id": "98088ef4",
   "metadata": {},
   "source": [
    "### EDA"
   ]
  },
  {
   "cell_type": "code",
   "execution_count": 13,
   "id": "2e67d1ba",
   "metadata": {},
   "outputs": [
    {
     "data": {
      "text/plain": [
       "1238.8930912758447"
      ]
     },
     "execution_count": 13,
     "metadata": {},
     "output_type": "execute_result"
    }
   ],
   "source": [
    "# average battery power of the mobile phones in the dataset\n",
    "\n",
    "df['battery_power'].mean()"
   ]
  },
  {
   "cell_type": "markdown",
   "id": "690898aa",
   "metadata": {},
   "source": [
    "### Distribution of battery power"
   ]
  },
  {
   "cell_type": "code",
   "execution_count": 17,
   "id": "c6e42153",
   "metadata": {},
   "outputs": [
    {
     "data": {
      "text/plain": [
       "Text(0.5, 1.0, 'Distribution of battery power')"
      ]
     },
     "execution_count": 17,
     "metadata": {},
     "output_type": "execute_result"
    },
    {
     "data": {
      "image/png": "[encoded data removed]",
      "text/plain": [
       "<Figure size 504x360 with 1 Axes>"
      ]
     },
     "metadata": {
      "needs_background": "light"
     },
     "output_type": "display_data"
    }
   ],
   "source": [
    "# distribution of battery power in the dataset\n",
    "\n",
    "pal = sns.color_palette(\"pastel\")\n",
    "plt.figure(figsize=(7,5))\n",
    "sns.histplot(data = df['battery_power'], palette=pal)\n",
    "plt.title('Distribution of battery power')"
   ]
  },
  {
   "cell_type": "code",
   "execution_count": 18,
   "id": "8077ee8a",
   "metadata": {},
   "outputs": [
    {
     "data": {
      "text/plain": [
       "1012"
      ]
     },
     "execution_count": 18,
     "metadata": {},
     "output_type": "execute_result"
    }
   ],
   "source": [
    "# no of mobile phones have a dual sim support\n",
    "\n",
    "df['dual_sim'].value_counts()[1.0]"
   ]
  },
  {
   "cell_type": "code",
   "execution_count": 19,
   "id": "ca0bc40d",
   "metadata": {},
   "outputs": [
    {
     "data": {
      "text/plain": [
       "64.0"
      ]
     },
     "execution_count": 19,
     "metadata": {},
     "output_type": "execute_result"
    }
   ],
   "source": [
    "# maximum internal memory in the dataset\n",
    "\n",
    "df['int_memory'].max()"
   ]
  },
  {
   "cell_type": "code",
   "execution_count": 20,
   "id": "23feba1e",
   "metadata": {},
   "outputs": [
    {
     "data": {
      "text/plain": [
       "2.0"
      ]
     },
     "execution_count": 20,
     "metadata": {},
     "output_type": "execute_result"
    }
   ],
   "source": [
    "# minimum internal memory in the dataset\n",
    "\n",
    "df['int_memory'].min()"
   ]
  },
  {
   "cell_type": "markdown",
   "id": "d6964158",
   "metadata": {},
   "source": [
    "### Distribution of internal memory"
   ]
  },
  {
   "cell_type": "code",
   "execution_count": 22,
   "id": "42e32046",
   "metadata": {},
   "outputs": [
    {
     "data": {
      "text/plain": [
       "Text(0.5, 1.0, 'Distribution of internal memory')"
      ]
     },
     "execution_count": 22,
     "metadata": {},
     "output_type": "execute_result"
    },
    {
     "data": {
      "image/png": "[encoded data removed]",
      "text/plain": [
       "<Figure size 504x360 with 1 Axes>"
      ]
     },
     "metadata": {
      "needs_background": "light"
     },
     "output_type": "display_data"
    }
   ],
   "source": [
    "# distribution of internal memory in the dataset\n",
    "\n",
    "plt.figure(figsize=(7,5))\n",
    "sns.histplot(data = df['int_memory'], palette=pal)\n",
    "plt.title('Distribution of internal memory')"
   ]
  },
  {
   "cell_type": "code",
   "execution_count": 23,
   "id": "36296c68",
   "metadata": {},
   "outputs": [
    {
     "data": {
      "text/plain": [
       "1037"
      ]
     },
     "execution_count": 23,
     "metadata": {},
     "output_type": "execute_result"
    }
   ],
   "source": [
    "# no of mobile phones have 4G support\n",
    "\n",
    "df['four_g'].value_counts()[1]"
   ]
  },
  {
   "cell_type": "code",
   "execution_count": 24,
   "id": "03fdc04f",
   "metadata": {},
   "outputs": [
    {
     "data": {
      "text/plain": [
       "140.21007556675062"
      ]
     },
     "execution_count": 24,
     "metadata": {},
     "output_type": "execute_result"
    }
   ],
   "source": [
    "# average weight of mobile phones in the dataset\n",
    "\n",
    "df['mobile_wt'].mean()"
   ]
  },
  {
   "cell_type": "code",
   "execution_count": 25,
   "id": "a5c6fc93",
   "metadata": {},
   "outputs": [
    {
     "data": {
      "text/plain": [
       "3998.0"
      ]
     },
     "execution_count": 25,
     "metadata": {},
     "output_type": "execute_result"
    }
   ],
   "source": [
    "#  maximum RAM size in the dataset\n",
    "\n",
    "df['ram'].max()"
   ]
  },
  {
   "cell_type": "code",
   "execution_count": 26,
   "id": "2ce80859",
   "metadata": {},
   "outputs": [
    {
     "data": {
      "text/plain": [
       "256.0"
      ]
     },
     "execution_count": 26,
     "metadata": {},
     "output_type": "execute_result"
    }
   ],
   "source": [
    "# minimum RAM size in the dataset\n",
    "\n",
    "df['ram'].min()"
   ]
  },
  {
   "cell_type": "code",
   "execution_count": 27,
   "id": "b11edffe",
   "metadata": {},
   "outputs": [
    {
     "data": {
      "text/plain": [
       "530"
      ]
     },
     "execution_count": 27,
     "metadata": {},
     "output_type": "execute_result"
    }
   ],
   "source": [
    "# no of mobile phones have a touch screen and 4G support\n",
    "\n",
    "len(df[(df['touch_screen']==1) & (df['four_g']==1)])"
   ]
  },
  {
   "cell_type": "code",
   "execution_count": 30,
   "id": "f2c44dd4",
   "metadata": {},
   "outputs": [
    {
     "data": {
      "text/plain": [
       "31.14090909090909"
      ]
     },
     "execution_count": 30,
     "metadata": {},
     "output_type": "execute_result"
    }
   ],
   "source": [
    "# average internal memory capacity of mobile phones with 4G support and a primary camera quality of 8 megapixels or higher\n",
    "\n",
    "df[(df['four_g']==1) & (df['fc']>=8)]['int_memory'].mean()"
   ]
  },
  {
   "cell_type": "code",
   "execution_count": 31,
   "id": "d3dcd502",
   "metadata": {},
   "outputs": [
    {
     "data": {
      "text/html": [
       "<div>\n",
       "<style scoped>\n",
       "    .dataframe tbody tr th:only-of-type {\n",
       "        vertical-align: middle;\n",
       "    }\n",
       "\n",
       "    .dataframe tbody tr th {\n",
       "        vertical-align: top;\n",
       "    }\n",
       "\n",
       "    .dataframe thead th {\n",
       "        text-align: right;\n",
       "    }\n",
       "</style>\n",
       "<table border=\"1\" class=\"dataframe\">\n",
       "  <thead>\n",
       "    <tr style=\"text-align: right;\">\n",
       "      <th></th>\n",
       "      <th>battery_power</th>\n",
       "      <th>blue</th>\n",
       "      <th>clock_speed</th>\n",
       "      <th>dual_sim</th>\n",
       "      <th>fc</th>\n",
       "      <th>four_g</th>\n",
       "      <th>int_memory</th>\n",
       "      <th>m_dep</th>\n",
       "      <th>mobile_wt</th>\n",
       "      <th>n_cores</th>\n",
       "      <th>...</th>\n",
       "      <th>px_height</th>\n",
       "      <th>px_width</th>\n",
       "      <th>ram</th>\n",
       "      <th>sc_h</th>\n",
       "      <th>sc_w</th>\n",
       "      <th>talk_time</th>\n",
       "      <th>three_g</th>\n",
       "      <th>touch_screen</th>\n",
       "      <th>wifi</th>\n",
       "      <th>price_range</th>\n",
       "    </tr>\n",
       "  </thead>\n",
       "  <tbody>\n",
       "    <tr>\n",
       "      <th>941</th>\n",
       "      <td>1456.0</td>\n",
       "      <td>0.0</td>\n",
       "      <td>1.6</td>\n",
       "      <td>1.0</td>\n",
       "      <td>9</td>\n",
       "      <td>1</td>\n",
       "      <td>39.0</td>\n",
       "      <td>0.1</td>\n",
       "      <td>80</td>\n",
       "      <td>8</td>\n",
       "      <td>...</td>\n",
       "      <td>815.0</td>\n",
       "      <td>1666.0</td>\n",
       "      <td>3998.0</td>\n",
       "      <td>6</td>\n",
       "      <td>3</td>\n",
       "      <td>13</td>\n",
       "      <td>1</td>\n",
       "      <td>1</td>\n",
       "      <td>0</td>\n",
       "      <td>3.0</td>\n",
       "    </tr>\n",
       "  </tbody>\n",
       "</table>\n",
       "<p>1 rows × 21 columns</p>\n",
       "</div>"
      ],
      "text/plain": [
       "     battery_power  blue  clock_speed  dual_sim  fc  four_g  int_memory  \\\n",
       "941         1456.0   0.0          1.6       1.0   9       1        39.0   \n",
       "\n",
       "     m_dep  mobile_wt  n_cores  ...  px_height  px_width     ram  sc_h  sc_w  \\\n",
       "941    0.1         80        8  ...      815.0    1666.0  3998.0     6     3   \n",
       "\n",
       "     talk_time  three_g  touch_screen  wifi  price_range  \n",
       "941         13        1             1     0          3.0  \n",
       "\n",
       "[1 rows x 21 columns]"
      ]
     },
     "execution_count": 31,
     "metadata": {},
     "output_type": "execute_result"
    }
   ],
   "source": [
    "# mobile phone has the highest RAM size and what are its other specifications\n",
    "\n",
    "df[df['ram']==df['ram'].max()]"
   ]
  },
  {
   "cell_type": "markdown",
   "id": "0d287ca9",
   "metadata": {},
   "source": [
    "### Distribution of Battery Power"
   ]
  },
  {
   "cell_type": "code",
   "execution_count": 36,
   "id": "b15548c3",
   "metadata": {},
   "outputs": [
    {
     "data": {
      "text/plain": [
       "Text(0.5, 1.0, 'Distribution of Battery Power')"
      ]
     },
     "execution_count": 36,
     "metadata": {},
     "output_type": "execute_result"
    },
    {
     "data": {
      "image/png": "[encoded data removed]",
      "text/plain": [
       "<Figure size 504x360 with 1 Axes>"
      ]
     },
     "metadata": {
      "needs_background": "light"
     },
     "output_type": "display_data"
    }
   ],
   "source": [
    "# distribution of battery power for mobile phones with a weight between 150 and 200 grams\n",
    "\n",
    "plt.figure(figsize=(7,5))\n",
    "x = df[(df['mobile_wt'] >=150) & (df['mobile_wt'] <= 200)]['battery_power']\n",
    "sns.histplot(data=x, palette=pal)\n",
    "plt.title('Distribution of Battery Power')"
   ]
  },
  {
   "cell_type": "code",
   "execution_count": 26,
   "id": "b933f1a2",
   "metadata": {},
   "outputs": [
    {
     "data": {
      "text/plain": [
       "337"
      ]
     },
     "execution_count": 26,
     "metadata": {},
     "output_type": "execute_result"
    }
   ],
   "source": [
    "# No of mobile phones have a primary camera quality of 8 megapixels or higher and a touch screen\n",
    "\n",
    "len(df[(df['sc_w']>=8) & (df['touch_screen']==1)])"
   ]
  },
  {
   "cell_type": "code",
   "execution_count": 27,
   "id": "941c462f",
   "metadata": {},
   "outputs": [
    {
     "data": {
      "text/plain": [
       "138.77169811320755"
      ]
     },
     "execution_count": 27,
     "metadata": {},
     "output_type": "execute_result"
    }
   ],
   "source": [
    "# average weight of mobile phones with 4G support and a touch screen\n",
    "\n",
    "df[(df['four_g']==1) & (df['touch_screen']==1)]['mobile_wt'].mean()"
   ]
  },
  {
   "cell_type": "code",
   "execution_count": 28,
   "id": "fd3fc8c5",
   "metadata": {},
   "outputs": [
    {
     "data": {
      "text/plain": [
       "0"
      ]
     },
     "execution_count": 28,
     "metadata": {},
     "output_type": "execute_result"
    }
   ],
   "source": [
    "# no of  mobile phones have a battery power greater than 3000 mAh and a talk time greater than 20 hours\n",
    "\n",
    "len(df[(df['battery_power']>3000) & (df['talk_time']>20)])"
   ]
  },
  {
   "cell_type": "code",
   "execution_count": 29,
   "id": "b0dc88bf",
   "metadata": {},
   "outputs": [
    {
     "data": {
      "text/html": [
       "<div>\n",
       "<style scoped>\n",
       "    .dataframe tbody tr th:only-of-type {\n",
       "        vertical-align: middle;\n",
       "    }\n",
       "\n",
       "    .dataframe tbody tr th {\n",
       "        vertical-align: top;\n",
       "    }\n",
       "\n",
       "    .dataframe thead th {\n",
       "        text-align: right;\n",
       "    }\n",
       "</style>\n",
       "<table border=\"1\" class=\"dataframe\">\n",
       "  <thead>\n",
       "    <tr style=\"text-align: right;\">\n",
       "      <th></th>\n",
       "      <th>battery_power</th>\n",
       "      <th>blue</th>\n",
       "      <th>clock_speed</th>\n",
       "      <th>dual_sim</th>\n",
       "      <th>fc</th>\n",
       "      <th>four_g</th>\n",
       "      <th>int_memory</th>\n",
       "      <th>m_dep</th>\n",
       "      <th>mobile_wt</th>\n",
       "      <th>n_cores</th>\n",
       "      <th>...</th>\n",
       "      <th>px_height</th>\n",
       "      <th>px_width</th>\n",
       "      <th>ram</th>\n",
       "      <th>sc_h</th>\n",
       "      <th>sc_w</th>\n",
       "      <th>talk_time</th>\n",
       "      <th>three_g</th>\n",
       "      <th>touch_screen</th>\n",
       "      <th>wifi</th>\n",
       "      <th>price_range</th>\n",
       "    </tr>\n",
       "  </thead>\n",
       "  <tbody>\n",
       "    <tr>\n",
       "      <th>370</th>\n",
       "      <td>1725.0</td>\n",
       "      <td>0.0</td>\n",
       "      <td>0.5</td>\n",
       "      <td>1.0</td>\n",
       "      <td>8</td>\n",
       "      <td>1</td>\n",
       "      <td>52.0</td>\n",
       "      <td>1.0</td>\n",
       "      <td>185</td>\n",
       "      <td>6</td>\n",
       "      <td>...</td>\n",
       "      <td>1125.0</td>\n",
       "      <td>1195.0</td>\n",
       "      <td>1243.0</td>\n",
       "      <td>19</td>\n",
       "      <td>18</td>\n",
       "      <td>5</td>\n",
       "      <td>1</td>\n",
       "      <td>1</td>\n",
       "      <td>1</td>\n",
       "      <td>1.0</td>\n",
       "    </tr>\n",
       "    <tr>\n",
       "      <th>394</th>\n",
       "      <td>1375.0</td>\n",
       "      <td>1.0</td>\n",
       "      <td>1.1</td>\n",
       "      <td>0.0</td>\n",
       "      <td>3</td>\n",
       "      <td>1</td>\n",
       "      <td>9.0</td>\n",
       "      <td>0.9</td>\n",
       "      <td>145</td>\n",
       "      <td>7</td>\n",
       "      <td>...</td>\n",
       "      <td>475.0</td>\n",
       "      <td>726.0</td>\n",
       "      <td>3869.0</td>\n",
       "      <td>19</td>\n",
       "      <td>18</td>\n",
       "      <td>10</td>\n",
       "      <td>1</td>\n",
       "      <td>1</td>\n",
       "      <td>1</td>\n",
       "      <td>3.0</td>\n",
       "    </tr>\n",
       "    <tr>\n",
       "      <th>1061</th>\n",
       "      <td>1408.0</td>\n",
       "      <td>1.0</td>\n",
       "      <td>2.5</td>\n",
       "      <td>0.0</td>\n",
       "      <td>3</td>\n",
       "      <td>0</td>\n",
       "      <td>32.0</td>\n",
       "      <td>0.1</td>\n",
       "      <td>151</td>\n",
       "      <td>4</td>\n",
       "      <td>...</td>\n",
       "      <td>875.0</td>\n",
       "      <td>982.0</td>\n",
       "      <td>3162.0</td>\n",
       "      <td>19</td>\n",
       "      <td>18</td>\n",
       "      <td>3</td>\n",
       "      <td>1</td>\n",
       "      <td>0</td>\n",
       "      <td>0</td>\n",
       "      <td>3.0</td>\n",
       "    </tr>\n",
       "    <tr>\n",
       "      <th>1255</th>\n",
       "      <td>1083.0</td>\n",
       "      <td>0.0</td>\n",
       "      <td>1.0</td>\n",
       "      <td>0.0</td>\n",
       "      <td>6</td>\n",
       "      <td>0</td>\n",
       "      <td>52.0</td>\n",
       "      <td>0.9</td>\n",
       "      <td>126</td>\n",
       "      <td>2</td>\n",
       "      <td>...</td>\n",
       "      <td>925.0</td>\n",
       "      <td>1469.0</td>\n",
       "      <td>681.0</td>\n",
       "      <td>19</td>\n",
       "      <td>18</td>\n",
       "      <td>19</td>\n",
       "      <td>1</td>\n",
       "      <td>1</td>\n",
       "      <td>1</td>\n",
       "      <td>0.0</td>\n",
       "    </tr>\n",
       "    <tr>\n",
       "      <th>1421</th>\n",
       "      <td>904.0</td>\n",
       "      <td>0.0</td>\n",
       "      <td>2.7</td>\n",
       "      <td>1.0</td>\n",
       "      <td>4</td>\n",
       "      <td>0</td>\n",
       "      <td>19.0</td>\n",
       "      <td>0.6</td>\n",
       "      <td>147</td>\n",
       "      <td>6</td>\n",
       "      <td>...</td>\n",
       "      <td>1094.0</td>\n",
       "      <td>1496.0</td>\n",
       "      <td>545.0</td>\n",
       "      <td>19</td>\n",
       "      <td>18</td>\n",
       "      <td>16</td>\n",
       "      <td>0</td>\n",
       "      <td>0</td>\n",
       "      <td>0</td>\n",
       "      <td>0.0</td>\n",
       "    </tr>\n",
       "    <tr>\n",
       "      <th>1646</th>\n",
       "      <td>1940.0</td>\n",
       "      <td>1.0</td>\n",
       "      <td>1.0</td>\n",
       "      <td>1.0</td>\n",
       "      <td>0</td>\n",
       "      <td>1</td>\n",
       "      <td>5.0</td>\n",
       "      <td>0.2</td>\n",
       "      <td>194</td>\n",
       "      <td>4</td>\n",
       "      <td>...</td>\n",
       "      <td>588.0</td>\n",
       "      <td>1809.0</td>\n",
       "      <td>820.0</td>\n",
       "      <td>19</td>\n",
       "      <td>18</td>\n",
       "      <td>3</td>\n",
       "      <td>1</td>\n",
       "      <td>1</td>\n",
       "      <td>1</td>\n",
       "      <td>1.0</td>\n",
       "    </tr>\n",
       "    <tr>\n",
       "      <th>1808</th>\n",
       "      <td>713.0</td>\n",
       "      <td>0.0</td>\n",
       "      <td>1.4</td>\n",
       "      <td>1.0</td>\n",
       "      <td>4</td>\n",
       "      <td>0</td>\n",
       "      <td>53.0</td>\n",
       "      <td>0.8</td>\n",
       "      <td>98</td>\n",
       "      <td>1</td>\n",
       "      <td>...</td>\n",
       "      <td>123.0</td>\n",
       "      <td>1477.0</td>\n",
       "      <td>1462.0</td>\n",
       "      <td>19</td>\n",
       "      <td>18</td>\n",
       "      <td>13</td>\n",
       "      <td>1</td>\n",
       "      <td>0</td>\n",
       "      <td>1</td>\n",
       "      <td>0.0</td>\n",
       "    </tr>\n",
       "    <tr>\n",
       "      <th>1973</th>\n",
       "      <td>1191.0</td>\n",
       "      <td>0.0</td>\n",
       "      <td>0.8</td>\n",
       "      <td>0.0</td>\n",
       "      <td>6</td>\n",
       "      <td>1</td>\n",
       "      <td>46.0</td>\n",
       "      <td>0.8</td>\n",
       "      <td>89</td>\n",
       "      <td>6</td>\n",
       "      <td>...</td>\n",
       "      <td>42.0</td>\n",
       "      <td>807.0</td>\n",
       "      <td>824.0</td>\n",
       "      <td>19</td>\n",
       "      <td>18</td>\n",
       "      <td>7</td>\n",
       "      <td>1</td>\n",
       "      <td>0</td>\n",
       "      <td>0</td>\n",
       "      <td>0.0</td>\n",
       "    </tr>\n",
       "  </tbody>\n",
       "</table>\n",
       "<p>8 rows × 21 columns</p>\n",
       "</div>"
      ],
      "text/plain": [
       "      battery_power  blue  clock_speed  dual_sim  fc  four_g  int_memory  \\\n",
       "370          1725.0   0.0          0.5       1.0   8       1        52.0   \n",
       "394          1375.0   1.0          1.1       0.0   3       1         9.0   \n",
       "1061         1408.0   1.0          2.5       0.0   3       0        32.0   \n",
       "1255         1083.0   0.0          1.0       0.0   6       0        52.0   \n",
       "1421          904.0   0.0          2.7       1.0   4       0        19.0   \n",
       "1646         1940.0   1.0          1.0       1.0   0       1         5.0   \n",
       "1808          713.0   0.0          1.4       1.0   4       0        53.0   \n",
       "1973         1191.0   0.0          0.8       0.0   6       1        46.0   \n",
       "\n",
       "      m_dep  mobile_wt  n_cores  ...  px_height  px_width     ram  sc_h  sc_w  \\\n",
       "370     1.0        185        6  ...     1125.0    1195.0  1243.0    19    18   \n",
       "394     0.9        145        7  ...      475.0     726.0  3869.0    19    18   \n",
       "1061    0.1        151        4  ...      875.0     982.0  3162.0    19    18   \n",
       "1255    0.9        126        2  ...      925.0    1469.0   681.0    19    18   \n",
       "1421    0.6        147        6  ...     1094.0    1496.0   545.0    19    18   \n",
       "1646    0.2        194        4  ...      588.0    1809.0   820.0    19    18   \n",
       "1808    0.8         98        1  ...      123.0    1477.0  1462.0    19    18   \n",
       "1973    0.8         89        6  ...       42.0     807.0   824.0    19    18   \n",
       "\n",
       "      talk_time  three_g  touch_screen  wifi  price_range  \n",
       "370           5        1             1     1          1.0  \n",
       "394          10        1             1     1          3.0  \n",
       "1061          3        1             0     0          3.0  \n",
       "1255         19        1             1     1          0.0  \n",
       "1421         16        0             0     0          0.0  \n",
       "1646          3        1             1     1          1.0  \n",
       "1808         13        1             0     1          0.0  \n",
       "1973          7        1             0     0          0.0  \n",
       "\n",
       "[8 rows x 21 columns]"
      ]
     },
     "execution_count": 29,
     "metadata": {},
     "output_type": "execute_result"
    }
   ],
   "source": [
    "# mobile phone has the highest primary camera quality and what are its other specifications\n",
    "\n",
    "df[(df['sc_w']==df['sc_w'].max())]"
   ]
  },
  {
   "cell_type": "code",
   "execution_count": 33,
   "id": "41687323",
   "metadata": {},
   "outputs": [
    {
     "data": {
      "text/plain": [
       "979"
      ]
     },
     "execution_count": 33,
     "metadata": {},
     "output_type": "execute_result"
    }
   ],
   "source": [
    "# No of mobile phones have a battery power greater than the average battery power of all mobile phones in the dataset\n",
    "\n",
    "len(df[(df['battery_power']>df['battery_power'].mean())])"
   ]
  },
  {
   "cell_type": "code",
   "execution_count": 34,
   "id": "83c8b9cb",
   "metadata": {},
   "outputs": [
    {
     "data": {
      "text/plain": [
       "-0.032839563887045856"
      ]
     },
     "execution_count": 34,
     "metadata": {},
     "output_type": "execute_result"
    }
   ],
   "source": [
    "# correlation between battery power and screen size\n",
    "df.corr()['battery_power']['sc_h']"
   ]
  },
  {
   "cell_type": "code",
   "execution_count": 35,
   "id": "2823238a",
   "metadata": {},
   "outputs": [
    {
     "data": {
      "text/plain": [
       "-0.015110507553040848"
      ]
     },
     "execution_count": 35,
     "metadata": {},
     "output_type": "execute_result"
    }
   ],
   "source": [
    "df.corr()['battery_power']['sc_w']"
   ]
  },
  {
   "cell_type": "markdown",
   "id": "4f3f92f2",
   "metadata": {},
   "source": [
    "### Number of Processor cores VS Battery Power"
   ]
  },
  {
   "cell_type": "code",
   "execution_count": 41,
   "id": "1b5a0795",
   "metadata": {},
   "outputs": [
    {
     "data": {
      "text/plain": [
       "Text(0.5, 1.0, 'Number of Processor cores VS Battery Power')"
      ]
     },
     "execution_count": 41,
     "metadata": {},
     "output_type": "execute_result"
    },
    {
     "data": {
      "image/png": "[encoded data removed]",
      "text/plain": [
       "<Figure size 504x360 with 1 Axes>"
      ]
     },
     "metadata": {
      "needs_background": "light"
     },
     "output_type": "display_data"
    }
   ],
   "source": [
    "# the number of processor cores affect the battery life of mobile phones\n",
    "\n",
    "plt.figure(figsize=(7,5))\n",
    "sns.scatterplot(data=df, x='n_cores', y='battery_power')\n",
    "plt.title('Number of Processor cores VS Battery Power')"
   ]
  },
  {
   "cell_type": "markdown",
   "id": "d9f47df7",
   "metadata": {},
   "source": [
    "### Mobile Weight VS FC"
   ]
  },
  {
   "cell_type": "code",
   "execution_count": 42,
   "id": "9aac34fb",
   "metadata": {},
   "outputs": [
    {
     "data": {
      "text/plain": [
       "Text(0.5, 1.0, 'Mobile Weight VS FC')"
      ]
     },
     "execution_count": 42,
     "metadata": {},
     "output_type": "execute_result"
    },
    {
     "data": {
      "image/png": "[encoded data removed]",
      "text/plain": [
       "<Figure size 504x360 with 1 Axes>"
      ]
     },
     "metadata": {
      "needs_background": "light"
     },
     "output_type": "display_data"
    }
   ],
   "source": [
    "# Is there a relationship between the weight of a mobile phone and the quality of its primary camera\n",
    "\n",
    "plt.figure(figsize=(7,5))\n",
    "sns.scatterplot(data=df, x='mobile_wt', y='fc')\n",
    "plt.title('Mobile Weight VS FC')"
   ]
  },
  {
   "cell_type": "markdown",
   "id": "0b84de43",
   "metadata": {},
   "source": [
    "### Battery Power VS Price Range"
   ]
  },
  {
   "cell_type": "code",
   "execution_count": 43,
   "id": "24218d91",
   "metadata": {},
   "outputs": [
    {
     "data": {
      "text/plain": [
       "Text(0.5, 1.0, 'Mobile Weight VS FC')"
      ]
     },
     "execution_count": 43,
     "metadata": {},
     "output_type": "execute_result"
    },
    {
     "data": {
      "image/png": "[encoded data removed]",
      "text/plain": [
       "<Figure size 504x360 with 1 Axes>"
      ]
     },
     "metadata": {
      "needs_background": "light"
     },
     "output_type": "display_data"
    }
   ],
   "source": [
    "plt.figure(figsize=(7,5))\n",
    "sns.scatterplot(data=df, x='battery_power', y='price_range')\n",
    "plt.title('Battery Power VS Price Range')"
   ]
  }
 ],
 "metadata": {
  "kernelspec": {
   "display_name": "Python 3 (ipykernel)",
   "language": "python",
   "name": "python3"
  },
  "language_info": {
   "codemirror_mode": {
    "name": "ipython",
    "version": 3
   },
   "file_extension": ".py",
   "mimetype": "text/x-python",
   "name": "python",
   "nbconvert_exporter": "python",
   "pygments_lexer": "ipython3",
   "version": "3.9.12"
  }
 },
 "nbformat": 4,
 "nbformat_minor": 5
}
