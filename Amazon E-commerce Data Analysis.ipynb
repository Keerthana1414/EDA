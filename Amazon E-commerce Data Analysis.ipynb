{
 "cells": [
  {
   "cell_type": "code",
   "execution_count": 1,
   "id": "6b265b30",
   "metadata": {},
   "outputs": [],
   "source": [
    "import pandas as pd\n",
    "import numpy as np\n",
    "import matplotlib.pyplot as plt\n",
    "plt.style.use('ggplot')\n",
    "import seaborn as sns\n",
    "%matplotlib inline"
   ]
  },
  {
   "cell_type": "code",
   "execution_count": 2,
   "id": "208147d4",
   "metadata": {},
   "outputs": [
    {
     "data": {
      "text/html": [
       "<div>\n",
       "<style scoped>\n",
       "    .dataframe tbody tr th:only-of-type {\n",
       "        vertical-align: middle;\n",
       "    }\n",
       "\n",
       "    .dataframe tbody tr th {\n",
       "        vertical-align: top;\n",
       "    }\n",
       "\n",
       "    .dataframe thead th {\n",
       "        text-align: right;\n",
       "    }\n",
       "</style>\n",
       "<table border=\"1\" class=\"dataframe\">\n",
       "  <thead>\n",
       "    <tr style=\"text-align: right;\">\n",
       "      <th></th>\n",
       "      <th>index</th>\n",
       "      <th>uniq_id</th>\n",
       "      <th>product_name</th>\n",
       "      <th>manufacturer</th>\n",
       "      <th>price</th>\n",
       "      <th>number_available_in_stock</th>\n",
       "      <th>number_of_reviews</th>\n",
       "      <th>number_of_answered_questions</th>\n",
       "      <th>average_review_rating</th>\n",
       "      <th>amazon_category_and_sub_category</th>\n",
       "      <th>customers_who_bought_this_item_also_bought</th>\n",
       "      <th>description</th>\n",
       "      <th>product_information</th>\n",
       "      <th>product_description</th>\n",
       "      <th>items_customers_buy_after_viewing_this_item</th>\n",
       "      <th>customer_questions_and_answers</th>\n",
       "      <th>customer_reviews</th>\n",
       "      <th>sellers</th>\n",
       "    </tr>\n",
       "  </thead>\n",
       "  <tbody>\n",
       "    <tr>\n",
       "      <th>0</th>\n",
       "      <td>0</td>\n",
       "      <td>eac7efa5dbd3d667f26eb3d3ab504464</td>\n",
       "      <td>Hornby 2014 Catalogue</td>\n",
       "      <td>Hornby</td>\n",
       "      <td>£3.42</td>\n",
       "      <td>5 new</td>\n",
       "      <td>15</td>\n",
       "      <td>1.0</td>\n",
       "      <td>4.9 out of 5 stars</td>\n",
       "      <td>Hobbies &gt; Model Trains &amp; Railway Sets &gt; Rail V...</td>\n",
       "      <td>http://www.amazon.co.uk/Hornby-R8150-Catalogue...</td>\n",
       "      <td>Product Description Hornby 2014 Catalogue Box ...</td>\n",
       "      <td>Technical Details Item Weight640 g Product Dim...</td>\n",
       "      <td>Product Description Hornby 2014 Catalogue Box ...</td>\n",
       "      <td>http://www.amazon.co.uk/Hornby-R8150-Catalogue...</td>\n",
       "      <td>Does this catalogue detail all the previous Ho...</td>\n",
       "      <td>Worth Buying For The Pictures Alone (As Ever) ...</td>\n",
       "      <td>{\"seller\"=&gt;[{\"Seller_name_1\"=&gt;\"Amazon.co.uk\", ...</td>\n",
       "    </tr>\n",
       "    <tr>\n",
       "      <th>1</th>\n",
       "      <td>1</td>\n",
       "      <td>b17540ef7e86e461d37f3ae58b7b72ac</td>\n",
       "      <td>FunkyBuys® Large Christmas Holiday Express Fes...</td>\n",
       "      <td>FunkyBuys</td>\n",
       "      <td>£16.99</td>\n",
       "      <td>NaN</td>\n",
       "      <td>2</td>\n",
       "      <td>1.0</td>\n",
       "      <td>4.5 out of 5 stars</td>\n",
       "      <td>Hobbies &gt; Model Trains &amp; Railway Sets &gt; Rail V...</td>\n",
       "      <td>http://www.amazon.co.uk/Christmas-Holiday-Expr...</td>\n",
       "      <td>Size Name:Large FunkyBuys® Large Christmas Hol...</td>\n",
       "      <td>Technical Details Manufacturer recommended age...</td>\n",
       "      <td>Size Name:Large FunkyBuys® Large Christmas Hol...</td>\n",
       "      <td>http://www.amazon.co.uk/Christmas-Holiday-Expr...</td>\n",
       "      <td>can you turn off sounds // hi no you cant turn...</td>\n",
       "      <td>Four Stars // 4.0 // 18 Dec. 2015 // By\\n    \\...</td>\n",
       "      <td>{\"seller\"=&gt;{\"Seller_name_1\"=&gt;\"UHD WHOLESALE\", ...</td>\n",
       "    </tr>\n",
       "    <tr>\n",
       "      <th>2</th>\n",
       "      <td>2</td>\n",
       "      <td>348f344247b0c1a935b1223072ef9d8a</td>\n",
       "      <td>CLASSIC TOY TRAIN SET TRACK CARRIAGES LIGHT EN...</td>\n",
       "      <td>ccf</td>\n",
       "      <td>£9.99</td>\n",
       "      <td>2 new</td>\n",
       "      <td>17</td>\n",
       "      <td>2.0</td>\n",
       "      <td>3.9 out of 5 stars</td>\n",
       "      <td>Hobbies &gt; Model Trains &amp; Railway Sets &gt; Rail V...</td>\n",
       "      <td>http://www.amazon.co.uk/Classic-Train-Lights-B...</td>\n",
       "      <td>BIG CLASSIC TOY TRAIN SET TRACK CARRIAGE LIGHT...</td>\n",
       "      <td>Technical Details Manufacturer recommended age...</td>\n",
       "      <td>BIG CLASSIC TOY TRAIN SET TRACK CARRIAGE LIGHT...</td>\n",
       "      <td>http://www.amazon.co.uk/Train-With-Tracks-Batt...</td>\n",
       "      <td>What is the gauge of the track // Hi Paul.Trut...</td>\n",
       "      <td>**Highly Recommended!** // 5.0 // 26 May 2015 ...</td>\n",
       "      <td>{\"seller\"=&gt;[{\"Seller_name_1\"=&gt;\"DEAL-BOX\", \"Sel...</td>\n",
       "    </tr>\n",
       "    <tr>\n",
       "      <th>3</th>\n",
       "      <td>3</td>\n",
       "      <td>e12b92dbb8eaee78b22965d2a9bbbd9f</td>\n",
       "      <td>HORNBY Coach R4410A BR Hawksworth Corridor 3rd</td>\n",
       "      <td>Hornby</td>\n",
       "      <td>£39.99</td>\n",
       "      <td>NaN</td>\n",
       "      <td>1</td>\n",
       "      <td>2.0</td>\n",
       "      <td>5.0 out of 5 stars</td>\n",
       "      <td>Hobbies &gt; Model Trains &amp; Railway Sets &gt; Rail V...</td>\n",
       "      <td>NaN</td>\n",
       "      <td>Hornby 00 Gauge BR Hawksworth 3rd Class W 2107...</td>\n",
       "      <td>Technical Details Item Weight259 g Product Dim...</td>\n",
       "      <td>Hornby 00 Gauge BR Hawksworth 3rd Class W 2107...</td>\n",
       "      <td>NaN</td>\n",
       "      <td>NaN</td>\n",
       "      <td>I love it // 5.0 // 22 July 2013 // By\\n    \\n...</td>\n",
       "      <td>NaN</td>\n",
       "    </tr>\n",
       "    <tr>\n",
       "      <th>4</th>\n",
       "      <td>4</td>\n",
       "      <td>e33a9adeed5f36840ccc227db4682a36</td>\n",
       "      <td>Hornby 00 Gauge 0-4-0 Gildenlow Salt Co. Steam...</td>\n",
       "      <td>Hornby</td>\n",
       "      <td>£32.19</td>\n",
       "      <td>NaN</td>\n",
       "      <td>3</td>\n",
       "      <td>2.0</td>\n",
       "      <td>4.7 out of 5 stars</td>\n",
       "      <td>Hobbies &gt; Model Trains &amp; Railway Sets &gt; Rail V...</td>\n",
       "      <td>http://www.amazon.co.uk/Hornby-R6367-RailRoad-...</td>\n",
       "      <td>Product Description Hornby RailRoad 0-4-0 Gild...</td>\n",
       "      <td>Technical Details Item Weight159 g Product Dim...</td>\n",
       "      <td>Product Description Hornby RailRoad 0-4-0 Gild...</td>\n",
       "      <td>http://www.amazon.co.uk/Hornby-R2672-RailRoad-...</td>\n",
       "      <td>NaN</td>\n",
       "      <td>Birthday present // 5.0 // 14 April 2014 // By...</td>\n",
       "      <td>NaN</td>\n",
       "    </tr>\n",
       "  </tbody>\n",
       "</table>\n",
       "</div>"
      ],
      "text/plain": [
       "   index                           uniq_id  \\\n",
       "0      0  eac7efa5dbd3d667f26eb3d3ab504464   \n",
       "1      1  b17540ef7e86e461d37f3ae58b7b72ac   \n",
       "2      2  348f344247b0c1a935b1223072ef9d8a   \n",
       "3      3  e12b92dbb8eaee78b22965d2a9bbbd9f   \n",
       "4      4  e33a9adeed5f36840ccc227db4682a36   \n",
       "\n",
       "                                        product_name manufacturer   price  \\\n",
       "0                              Hornby 2014 Catalogue       Hornby   £3.42   \n",
       "1  FunkyBuys® Large Christmas Holiday Express Fes...    FunkyBuys  £16.99   \n",
       "2  CLASSIC TOY TRAIN SET TRACK CARRIAGES LIGHT EN...          ccf   £9.99   \n",
       "3     HORNBY Coach R4410A BR Hawksworth Corridor 3rd       Hornby  £39.99   \n",
       "4  Hornby 00 Gauge 0-4-0 Gildenlow Salt Co. Steam...       Hornby  £32.19   \n",
       "\n",
       "  number_available_in_stock number_of_reviews  number_of_answered_questions  \\\n",
       "0                     5 new                15                           1.0   \n",
       "1                       NaN                 2                           1.0   \n",
       "2                     2 new                17                           2.0   \n",
       "3                       NaN                 1                           2.0   \n",
       "4                       NaN                 3                           2.0   \n",
       "\n",
       "  average_review_rating                   amazon_category_and_sub_category  \\\n",
       "0    4.9 out of 5 stars  Hobbies > Model Trains & Railway Sets > Rail V...   \n",
       "1    4.5 out of 5 stars  Hobbies > Model Trains & Railway Sets > Rail V...   \n",
       "2    3.9 out of 5 stars  Hobbies > Model Trains & Railway Sets > Rail V...   \n",
       "3    5.0 out of 5 stars  Hobbies > Model Trains & Railway Sets > Rail V...   \n",
       "4    4.7 out of 5 stars  Hobbies > Model Trains & Railway Sets > Rail V...   \n",
       "\n",
       "          customers_who_bought_this_item_also_bought  \\\n",
       "0  http://www.amazon.co.uk/Hornby-R8150-Catalogue...   \n",
       "1  http://www.amazon.co.uk/Christmas-Holiday-Expr...   \n",
       "2  http://www.amazon.co.uk/Classic-Train-Lights-B...   \n",
       "3                                                NaN   \n",
       "4  http://www.amazon.co.uk/Hornby-R6367-RailRoad-...   \n",
       "\n",
       "                                         description  \\\n",
       "0  Product Description Hornby 2014 Catalogue Box ...   \n",
       "1  Size Name:Large FunkyBuys® Large Christmas Hol...   \n",
       "2  BIG CLASSIC TOY TRAIN SET TRACK CARRIAGE LIGHT...   \n",
       "3  Hornby 00 Gauge BR Hawksworth 3rd Class W 2107...   \n",
       "4  Product Description Hornby RailRoad 0-4-0 Gild...   \n",
       "\n",
       "                                 product_information  \\\n",
       "0  Technical Details Item Weight640 g Product Dim...   \n",
       "1  Technical Details Manufacturer recommended age...   \n",
       "2  Technical Details Manufacturer recommended age...   \n",
       "3  Technical Details Item Weight259 g Product Dim...   \n",
       "4  Technical Details Item Weight159 g Product Dim...   \n",
       "\n",
       "                                 product_description  \\\n",
       "0  Product Description Hornby 2014 Catalogue Box ...   \n",
       "1  Size Name:Large FunkyBuys® Large Christmas Hol...   \n",
       "2  BIG CLASSIC TOY TRAIN SET TRACK CARRIAGE LIGHT...   \n",
       "3  Hornby 00 Gauge BR Hawksworth 3rd Class W 2107...   \n",
       "4  Product Description Hornby RailRoad 0-4-0 Gild...   \n",
       "\n",
       "         items_customers_buy_after_viewing_this_item  \\\n",
       "0  http://www.amazon.co.uk/Hornby-R8150-Catalogue...   \n",
       "1  http://www.amazon.co.uk/Christmas-Holiday-Expr...   \n",
       "2  http://www.amazon.co.uk/Train-With-Tracks-Batt...   \n",
       "3                                                NaN   \n",
       "4  http://www.amazon.co.uk/Hornby-R2672-RailRoad-...   \n",
       "\n",
       "                      customer_questions_and_answers  \\\n",
       "0  Does this catalogue detail all the previous Ho...   \n",
       "1  can you turn off sounds // hi no you cant turn...   \n",
       "2  What is the gauge of the track // Hi Paul.Trut...   \n",
       "3                                                NaN   \n",
       "4                                                NaN   \n",
       "\n",
       "                                    customer_reviews  \\\n",
       "0  Worth Buying For The Pictures Alone (As Ever) ...   \n",
       "1  Four Stars // 4.0 // 18 Dec. 2015 // By\\n    \\...   \n",
       "2  **Highly Recommended!** // 5.0 // 26 May 2015 ...   \n",
       "3  I love it // 5.0 // 22 July 2013 // By\\n    \\n...   \n",
       "4  Birthday present // 5.0 // 14 April 2014 // By...   \n",
       "\n",
       "                                             sellers  \n",
       "0  {\"seller\"=>[{\"Seller_name_1\"=>\"Amazon.co.uk\", ...  \n",
       "1  {\"seller\"=>{\"Seller_name_1\"=>\"UHD WHOLESALE\", ...  \n",
       "2  {\"seller\"=>[{\"Seller_name_1\"=>\"DEAL-BOX\", \"Sel...  \n",
       "3                                                NaN  \n",
       "4                                                NaN  "
      ]
     },
     "execution_count": 2,
     "metadata": {},
     "output_type": "execute_result"
    }
   ],
   "source": [
    "df = pd.read_csv(\"D:/Assignment/ML/amazon_co-ecommerce_sample.csv\")\n",
    "df.head()"
   ]
  },
  {
   "cell_type": "markdown",
   "id": "a07b84b0",
   "metadata": {},
   "source": [
    "### Understanding the data"
   ]
  },
  {
   "cell_type": "code",
   "execution_count": 3,
   "id": "112867f2",
   "metadata": {},
   "outputs": [
    {
     "data": {
      "text/plain": [
       "Index(['index', 'uniq_id', 'product_name', 'manufacturer', 'price',\n",
       "       'number_available_in_stock', 'number_of_reviews',\n",
       "       'number_of_answered_questions', 'average_review_rating',\n",
       "       'amazon_category_and_sub_category',\n",
       "       'customers_who_bought_this_item_also_bought', 'description',\n",
       "       'product_information', 'product_description',\n",
       "       'items_customers_buy_after_viewing_this_item',\n",
       "       'customer_questions_and_answers', 'customer_reviews', 'sellers'],\n",
       "      dtype='object')"
      ]
     },
     "execution_count": 3,
     "metadata": {},
     "output_type": "execute_result"
    }
   ],
   "source": [
    "df.columns"
   ]
  },
  {
   "cell_type": "code",
   "execution_count": 4,
   "id": "ef034983",
   "metadata": {},
   "outputs": [
    {
     "data": {
      "text/plain": [
       "(10000, 18)"
      ]
     },
     "execution_count": 4,
     "metadata": {},
     "output_type": "execute_result"
    }
   ],
   "source": [
    "# size of the dataset\n",
    "\n",
    "df.shape"
   ]
  },
  {
   "cell_type": "markdown",
   "id": "633b9789",
   "metadata": {},
   "source": [
    "### Data Cleaning "
   ]
  },
  {
   "cell_type": "code",
   "execution_count": 5,
   "id": "ac0d7caa",
   "metadata": {},
   "outputs": [],
   "source": [
    "# Dropping unwanted columns\n",
    "\n",
    "df.drop(['customers_who_bought_this_item_also_bought', 'description',\n",
    "       'product_information', 'product_description',\n",
    "       'items_customers_buy_after_viewing_this_item',\n",
    "       'customer_questions_and_answers', 'customer_reviews', 'sellers'], axis=1, inplace=True)"
   ]
  },
  {
   "cell_type": "code",
   "execution_count": 6,
   "id": "182c1e60",
   "metadata": {},
   "outputs": [
    {
     "data": {
      "text/plain": [
       "index                                 int64\n",
       "uniq_id                              object\n",
       "product_name                         object\n",
       "manufacturer                         object\n",
       "price                                object\n",
       "number_available_in_stock            object\n",
       "number_of_reviews                    object\n",
       "number_of_answered_questions        float64\n",
       "average_review_rating                object\n",
       "amazon_category_and_sub_category     object\n",
       "dtype: object"
      ]
     },
     "execution_count": 6,
     "metadata": {},
     "output_type": "execute_result"
    }
   ],
   "source": [
    "df.dtypes"
   ]
  },
  {
   "cell_type": "code",
   "execution_count": 7,
   "id": "68de9f0c",
   "metadata": {},
   "outputs": [
    {
     "data": {
      "text/plain": [
       "index                                  0\n",
       "uniq_id                                0\n",
       "product_name                           0\n",
       "manufacturer                           7\n",
       "price                               1435\n",
       "number_available_in_stock           2500\n",
       "number_of_reviews                     18\n",
       "number_of_answered_questions         765\n",
       "average_review_rating                 18\n",
       "amazon_category_and_sub_category     690\n",
       "dtype: int64"
      ]
     },
     "execution_count": 7,
     "metadata": {},
     "output_type": "execute_result"
    }
   ],
   "source": [
    "df.isnull().sum()"
   ]
  },
  {
   "cell_type": "markdown",
   "id": "fecdaea4",
   "metadata": {},
   "source": [
    "##### Dealing with missing values"
   ]
  },
  {
   "cell_type": "code",
   "execution_count": 8,
   "id": "d2575f4d",
   "metadata": {},
   "outputs": [],
   "source": [
    "df['number_available_in_stock'] = df['number_available_in_stock'].fillna(0)\n",
    "df['number_of_answered_questions'] = df['number_of_answered_questions'].fillna(0)\n",
    "df['number_of_reviews'] = df['number_of_reviews'].fillna(0)\n",
    "df['average_review_rating'] = df['average_review_rating'].fillna(0)"
   ]
  },
  {
   "cell_type": "code",
   "execution_count": 9,
   "id": "3cb01891",
   "metadata": {},
   "outputs": [],
   "source": [
    "df.dropna(inplace=True)\n",
    "df.reset_index(inplace=True, drop=True)"
   ]
  },
  {
   "cell_type": "markdown",
   "id": "047a2fde",
   "metadata": {},
   "source": [
    "##### Dealing with noise"
   ]
  },
  {
   "cell_type": "code",
   "execution_count": 10,
   "id": "45f823bd",
   "metadata": {},
   "outputs": [],
   "source": [
    "# Convert data types of columns price, number_available_in_stock, number_of_reviews, average_review_rating from object to numeric\n",
    "\n",
    "df['price'] = df['price'].apply(lambda x : x.replace('£', '') if '£' in str(x) else x)\n",
    "df['number_available_in_stock'] = df['number_available_in_stock'].apply(lambda x : int(str(x)[0]))\n",
    "df['number_of_reviews'] = df['number_of_reviews'].apply(lambda x : int(str(x).replace(',', '')) if ',' in str(x) else int(x))\n",
    "df['average_review_rating'] = df['average_review_rating'].apply(lambda x : float(str(x).split(' ')[0]))"
   ]
  },
  {
   "cell_type": "code",
   "execution_count": 11,
   "id": "ea8770a2",
   "metadata": {},
   "outputs": [],
   "source": [
    "df['price'] = pd.to_numeric(df['price'], errors = 'coerce')"
   ]
  },
  {
   "cell_type": "code",
   "execution_count": 12,
   "id": "67f5f002",
   "metadata": {},
   "outputs": [],
   "source": [
    "# convert amazon_category_and_sub_category in different columns [Category and SubCategory].\n",
    "\n",
    "df['Category'] = df['amazon_category_and_sub_category'].apply(lambda x : str(x).split('>')[0])\n",
    "df['Sub_Category'] = df['amazon_category_and_sub_category'].apply(lambda x : str(x).split('>')[1])"
   ]
  },
  {
   "cell_type": "code",
   "execution_count": 13,
   "id": "bc6b7ac4",
   "metadata": {},
   "outputs": [],
   "source": [
    "df.drop(['amazon_category_and_sub_category', 'index'], axis=1, inplace=True)"
   ]
  },
  {
   "cell_type": "code",
   "execution_count": 14,
   "id": "2b8d72c6",
   "metadata": {},
   "outputs": [],
   "source": [
    "df.dropna(inplace=True)"
   ]
  },
  {
   "cell_type": "markdown",
   "id": "60a71904",
   "metadata": {},
   "source": [
    "### EDA"
   ]
  },
  {
   "cell_type": "code",
   "execution_count": 15,
   "id": "efc741b2",
   "metadata": {},
   "outputs": [
    {
     "data": {
      "text/html": [
       "<div>\n",
       "<style scoped>\n",
       "    .dataframe tbody tr th:only-of-type {\n",
       "        vertical-align: middle;\n",
       "    }\n",
       "\n",
       "    .dataframe tbody tr th {\n",
       "        vertical-align: top;\n",
       "    }\n",
       "\n",
       "    .dataframe thead th {\n",
       "        text-align: right;\n",
       "    }\n",
       "</style>\n",
       "<table border=\"1\" class=\"dataframe\">\n",
       "  <thead>\n",
       "    <tr style=\"text-align: right;\">\n",
       "      <th></th>\n",
       "      <th>price</th>\n",
       "      <th>number_available_in_stock</th>\n",
       "      <th>number_of_reviews</th>\n",
       "      <th>number_of_answered_questions</th>\n",
       "      <th>average_review_rating</th>\n",
       "    </tr>\n",
       "  </thead>\n",
       "  <tbody>\n",
       "    <tr>\n",
       "      <th>count</th>\n",
       "      <td>7993.000000</td>\n",
       "      <td>7993.000000</td>\n",
       "      <td>7993.000000</td>\n",
       "      <td>7993.000000</td>\n",
       "      <td>7993.000000</td>\n",
       "    </tr>\n",
       "    <tr>\n",
       "      <th>mean</th>\n",
       "      <td>19.843493</td>\n",
       "      <td>2.601526</td>\n",
       "      <td>9.362567</td>\n",
       "      <td>1.705117</td>\n",
       "      <td>4.703303</td>\n",
       "    </tr>\n",
       "    <tr>\n",
       "      <th>std</th>\n",
       "      <td>39.031481</td>\n",
       "      <td>2.469125</td>\n",
       "      <td>36.469600</td>\n",
       "      <td>2.539625</td>\n",
       "      <td>0.407793</td>\n",
       "    </tr>\n",
       "    <tr>\n",
       "      <th>min</th>\n",
       "      <td>0.010000</td>\n",
       "      <td>0.000000</td>\n",
       "      <td>0.000000</td>\n",
       "      <td>0.000000</td>\n",
       "      <td>0.000000</td>\n",
       "    </tr>\n",
       "    <tr>\n",
       "      <th>25%</th>\n",
       "      <td>4.650000</td>\n",
       "      <td>0.000000</td>\n",
       "      <td>1.000000</td>\n",
       "      <td>1.000000</td>\n",
       "      <td>4.500000</td>\n",
       "    </tr>\n",
       "    <tr>\n",
       "      <th>50%</th>\n",
       "      <td>10.000000</td>\n",
       "      <td>2.000000</td>\n",
       "      <td>2.000000</td>\n",
       "      <td>1.000000</td>\n",
       "      <td>5.000000</td>\n",
       "    </tr>\n",
       "    <tr>\n",
       "      <th>75%</th>\n",
       "      <td>19.990000</td>\n",
       "      <td>4.000000</td>\n",
       "      <td>6.000000</td>\n",
       "      <td>2.000000</td>\n",
       "      <td>5.000000</td>\n",
       "    </tr>\n",
       "    <tr>\n",
       "      <th>max</th>\n",
       "      <td>995.110000</td>\n",
       "      <td>9.000000</td>\n",
       "      <td>1399.000000</td>\n",
       "      <td>39.000000</td>\n",
       "      <td>5.000000</td>\n",
       "    </tr>\n",
       "  </tbody>\n",
       "</table>\n",
       "</div>"
      ],
      "text/plain": [
       "             price  number_available_in_stock  number_of_reviews  \\\n",
       "count  7993.000000                7993.000000        7993.000000   \n",
       "mean     19.843493                   2.601526           9.362567   \n",
       "std      39.031481                   2.469125          36.469600   \n",
       "min       0.010000                   0.000000           0.000000   \n",
       "25%       4.650000                   0.000000           1.000000   \n",
       "50%      10.000000                   2.000000           2.000000   \n",
       "75%      19.990000                   4.000000           6.000000   \n",
       "max     995.110000                   9.000000        1399.000000   \n",
       "\n",
       "       number_of_answered_questions  average_review_rating  \n",
       "count                   7993.000000            7993.000000  \n",
       "mean                       1.705117               4.703303  \n",
       "std                        2.539625               0.407793  \n",
       "min                        0.000000               0.000000  \n",
       "25%                        1.000000               4.500000  \n",
       "50%                        1.000000               5.000000  \n",
       "75%                        2.000000               5.000000  \n",
       "max                       39.000000               5.000000  "
      ]
     },
     "execution_count": 15,
     "metadata": {},
     "output_type": "execute_result"
    }
   ],
   "source": [
    "# statistical summery for all columns.\n",
    "\n",
    "df.describe()"
   ]
  },
  {
   "cell_type": "code",
   "execution_count": 16,
   "id": "f19baae5",
   "metadata": {},
   "outputs": [],
   "source": [
    "# Do some Outlier studies and remove the outliers appropriately.\n",
    "\n",
    "col = ['price', 'number_of_reviews', 'number_of_answered_questions']"
   ]
  },
  {
   "cell_type": "code",
   "execution_count": 18,
   "id": "198ac4d3",
   "metadata": {},
   "outputs": [
    {
     "data": {
      "text/plain": [
       "7967"
      ]
     },
     "execution_count": 18,
     "metadata": {},
     "output_type": "execute_result"
    }
   ],
   "source": [
    "# no of unique products are there in the dataset \n",
    "\n",
    "df['product_name'].nunique()"
   ]
  },
  {
   "cell_type": "markdown",
   "id": "b74ecc92",
   "metadata": {},
   "source": [
    "### Top 5 Manufacture"
   ]
  },
  {
   "cell_type": "code",
   "execution_count": 59,
   "id": "da8d1214",
   "metadata": {},
   "outputs": [
    {
     "data": {
      "text/plain": [
       "Text(0, 0.5, 'Count of products')"
      ]
     },
     "execution_count": 59,
     "metadata": {},
     "output_type": "execute_result"
    },
    {
     "data": {
      "image/png": "[encoded data removed]",
      "text/plain": [
       "<Figure size 576x360 with 1 Axes>"
      ]
     },
     "metadata": {
      "needs_background": "light"
     },
     "output_type": "display_data"
    }
   ],
   "source": [
    "# no of unique products from each manufacturer\n",
    "\n",
    "x1 = df.groupby('manufacturer')['product_name'].nunique().to_frame().sort_values('product_name', ascending=False).reset_index()\n",
    "plt.figure(figsize=(8,5))\n",
    "pal = sns.color_palette(\"dark:salmon_r\")\n",
    "sns.barplot(data=x1.head(5), x='manufacturer', y='product_name', palette=pal)\n",
    "plt.title('Top 5 Manufacturer')\n",
    "plt.ylabel('Count of products')"
   ]
  },
  {
   "cell_type": "code",
   "execution_count": 32,
   "id": "a8324ddf",
   "metadata": {},
   "outputs": [
    {
     "data": {
      "text/html": [
       "<div>\n",
       "<style scoped>\n",
       "    .dataframe tbody tr th:only-of-type {\n",
       "        vertical-align: middle;\n",
       "    }\n",
       "\n",
       "    .dataframe tbody tr th {\n",
       "        vertical-align: top;\n",
       "    }\n",
       "\n",
       "    .dataframe thead th {\n",
       "        text-align: right;\n",
       "    }\n",
       "</style>\n",
       "<table border=\"1\" class=\"dataframe\">\n",
       "  <thead>\n",
       "    <tr style=\"text-align: right;\">\n",
       "      <th></th>\n",
       "      <th>price</th>\n",
       "    </tr>\n",
       "    <tr>\n",
       "      <th>Category</th>\n",
       "      <th></th>\n",
       "    </tr>\n",
       "  </thead>\n",
       "  <tbody>\n",
       "    <tr>\n",
       "      <th>Hobbies</th>\n",
       "      <td>34.150284</td>\n",
       "    </tr>\n",
       "  </tbody>\n",
       "</table>\n",
       "</div>"
      ],
      "text/plain": [
       "              price\n",
       "Category           \n",
       "Hobbies   34.150284"
      ]
     },
     "execution_count": 32,
     "metadata": {},
     "output_type": "execute_result"
    }
   ],
   "source": [
    "# average price of products in each category\n",
    "\n",
    "x = df.groupby('Category')['price'].mean().to_frame().sort_values('price', ascending=False)\n",
    "x.iloc[:1]"
   ]
  },
  {
   "cell_type": "code",
   "execution_count": 33,
   "id": "6c0c0e51",
   "metadata": {},
   "outputs": [
    {
     "data": {
      "text/html": [
       "<div>\n",
       "<style scoped>\n",
       "    .dataframe tbody tr th:only-of-type {\n",
       "        vertical-align: middle;\n",
       "    }\n",
       "\n",
       "    .dataframe tbody tr th {\n",
       "        vertical-align: top;\n",
       "    }\n",
       "\n",
       "    .dataframe thead th {\n",
       "        text-align: right;\n",
       "    }\n",
       "</style>\n",
       "<table border=\"1\" class=\"dataframe\">\n",
       "  <thead>\n",
       "    <tr style=\"text-align: right;\">\n",
       "      <th></th>\n",
       "      <th></th>\n",
       "      <th>price</th>\n",
       "    </tr>\n",
       "    <tr>\n",
       "      <th>Category</th>\n",
       "      <th>Sub_Category</th>\n",
       "      <th></th>\n",
       "    </tr>\n",
       "  </thead>\n",
       "  <tbody>\n",
       "    <tr>\n",
       "      <th>Baby &amp; Toddler Toys</th>\n",
       "      <th>Rocking Horses</th>\n",
       "      <td>133.625</td>\n",
       "    </tr>\n",
       "  </tbody>\n",
       "</table>\n",
       "</div>"
      ],
      "text/plain": [
       "                                        price\n",
       "Category             Sub_Category            \n",
       "Baby & Toddler Toys   Rocking Horses  133.625"
      ]
     },
     "execution_count": 33,
     "metadata": {},
     "output_type": "execute_result"
    }
   ],
   "source": [
    "# average price of products in each category and subcategory and its highest average price\n",
    "\n",
    "y = df.groupby(['Category', 'Sub_Category'])['price'].mean().to_frame().sort_values('price', ascending=False)\n",
    "y.iloc[:1]"
   ]
  },
  {
   "cell_type": "code",
   "execution_count": 34,
   "id": "4a070072",
   "metadata": {},
   "outputs": [
    {
     "data": {
      "text/html": [
       "<div>\n",
       "<style scoped>\n",
       "    .dataframe tbody tr th:only-of-type {\n",
       "        vertical-align: middle;\n",
       "    }\n",
       "\n",
       "    .dataframe tbody tr th {\n",
       "        vertical-align: top;\n",
       "    }\n",
       "\n",
       "    .dataframe thead th {\n",
       "        text-align: right;\n",
       "    }\n",
       "</style>\n",
       "<table border=\"1\" class=\"dataframe\">\n",
       "  <thead>\n",
       "    <tr style=\"text-align: right;\">\n",
       "      <th></th>\n",
       "      <th>product_name</th>\n",
       "      <th>price</th>\n",
       "    </tr>\n",
       "  </thead>\n",
       "  <tbody>\n",
       "    <tr>\n",
       "      <th>0</th>\n",
       "      <td>Hornby 2014 Catalogue</td>\n",
       "      <td>3.42</td>\n",
       "    </tr>\n",
       "    <tr>\n",
       "      <th>8</th>\n",
       "      <td>Hornby Gauge Western Express Digital Train Set...</td>\n",
       "      <td>235.58</td>\n",
       "    </tr>\n",
       "    <tr>\n",
       "      <th>9</th>\n",
       "      <td>Hornby Gauge Railroad Mosley Tarmacadam Locomo...</td>\n",
       "      <td>27.49</td>\n",
       "    </tr>\n",
       "    <tr>\n",
       "      <th>11</th>\n",
       "      <td>Bachmann 37-662 14 Ton Tank Wagon Pease &amp; Part...</td>\n",
       "      <td>9.60</td>\n",
       "    </tr>\n",
       "    <tr>\n",
       "      <th>12</th>\n",
       "      <td>Hornby 00 Gauge 253mm Weathered Paviland Grang...</td>\n",
       "      <td>119.50</td>\n",
       "    </tr>\n",
       "    <tr>\n",
       "      <th>...</th>\n",
       "      <td>...</td>\n",
       "      <td>...</td>\n",
       "    </tr>\n",
       "    <tr>\n",
       "      <th>8002</th>\n",
       "      <td>Star Wars The Clone Wars CW01 Captain Rex 3.75...</td>\n",
       "      <td>32.99</td>\n",
       "    </tr>\n",
       "    <tr>\n",
       "      <th>8005</th>\n",
       "      <td>Batman 1966 TV Series Action Figures - The Rid...</td>\n",
       "      <td>22.95</td>\n",
       "    </tr>\n",
       "    <tr>\n",
       "      <th>8007</th>\n",
       "      <td>Defiance Lawkeeper Metal Badge Prop Replica</td>\n",
       "      <td>43.99</td>\n",
       "    </tr>\n",
       "    <tr>\n",
       "      <th>8008</th>\n",
       "      <td>Justice League of America Series 3 Green Lante...</td>\n",
       "      <td>49.81</td>\n",
       "    </tr>\n",
       "    <tr>\n",
       "      <th>8009</th>\n",
       "      <td>Star Wars 1/72 Y-Wing Starfighter</td>\n",
       "      <td>21.20</td>\n",
       "    </tr>\n",
       "  </tbody>\n",
       "</table>\n",
       "<p>4428 rows × 2 columns</p>\n",
       "</div>"
      ],
      "text/plain": [
       "                                           product_name   price\n",
       "0                                 Hornby 2014 Catalogue    3.42\n",
       "8     Hornby Gauge Western Express Digital Train Set...  235.58\n",
       "9     Hornby Gauge Railroad Mosley Tarmacadam Locomo...   27.49\n",
       "11    Bachmann 37-662 14 Ton Tank Wagon Pease & Part...    9.60\n",
       "12    Hornby 00 Gauge 253mm Weathered Paviland Grang...  119.50\n",
       "...                                                 ...     ...\n",
       "8002  Star Wars The Clone Wars CW01 Captain Rex 3.75...   32.99\n",
       "8005  Batman 1966 TV Series Action Figures - The Rid...   22.95\n",
       "8007        Defiance Lawkeeper Metal Badge Prop Replica   43.99\n",
       "8008  Justice League of America Series 3 Green Lante...   49.81\n",
       "8009                  Star Wars 1/72 Y-Wing Starfighter   21.20\n",
       "\n",
       "[4428 rows x 2 columns]"
      ]
     },
     "execution_count": 34,
     "metadata": {},
     "output_type": "execute_result"
    }
   ],
   "source": [
    "# Products with high rating and in stock\n",
    "\n",
    "df[(df['average_review_rating']>=4.5) & (df['number_available_in_stock']!=0)][['product_name', 'price']]"
   ]
  },
  {
   "cell_type": "markdown",
   "id": "92c8b81b",
   "metadata": {},
   "source": [
    "### Top Category by No of Reviews"
   ]
  },
  {
   "cell_type": "code",
   "execution_count": 62,
   "id": "a39ba210",
   "metadata": {},
   "outputs": [
    {
     "data": {
      "text/plain": [
       "Text(0.5, 1.0, 'Top Category by No of Reviews')"
      ]
     },
     "execution_count": 62,
     "metadata": {},
     "output_type": "execute_result"
    },
    {
     "data": {
      "image/png": "[encoded data removed]",
      "text/plain": [
       "<Figure size 576x432 with 1 Axes>"
      ]
     },
     "metadata": {
      "needs_background": "light"
     },
     "output_type": "display_data"
    }
   ],
   "source": [
    "# category-wise the highest median number of reviews\n",
    "\n",
    "z = df.groupby('Category')['number_of_reviews'].median().to_frame().sort_values('number_of_reviews', ascending=False)\n",
    "z.reset_index(inplace=True)\n",
    "plt.figure(figsize=(8,6))\n",
    "pal = sns.color_palette(\"dark:salmon_r\")\n",
    "sns.barplot(data = z.head(5), x='number_of_reviews', y ='Category', palette=pal)\n",
    "plt.title('Top Category by No of Reviews')"
   ]
  },
  {
   "cell_type": "code",
   "execution_count": 36,
   "id": "2e3b0ba3",
   "metadata": {},
   "outputs": [
    {
     "data": {
      "text/html": [
       "<div>\n",
       "<style scoped>\n",
       "    .dataframe tbody tr th:only-of-type {\n",
       "        vertical-align: middle;\n",
       "    }\n",
       "\n",
       "    .dataframe tbody tr th {\n",
       "        vertical-align: top;\n",
       "    }\n",
       "\n",
       "    .dataframe thead th {\n",
       "        text-align: right;\n",
       "    }\n",
       "</style>\n",
       "<table border=\"1\" class=\"dataframe\">\n",
       "  <thead>\n",
       "    <tr style=\"text-align: right;\">\n",
       "      <th></th>\n",
       "      <th></th>\n",
       "      <th>price</th>\n",
       "    </tr>\n",
       "    <tr>\n",
       "      <th>Category</th>\n",
       "      <th>Sub_Category</th>\n",
       "      <th></th>\n",
       "    </tr>\n",
       "  </thead>\n",
       "  <tbody>\n",
       "    <tr>\n",
       "      <th>Arts &amp; Crafts</th>\n",
       "      <th>Children's Craft Kits</th>\n",
       "      <td>4.399091</td>\n",
       "    </tr>\n",
       "    <tr>\n",
       "      <th>Bedding &amp; Linens</th>\n",
       "      <th>Children's Bedding</th>\n",
       "      <td>7.490000</td>\n",
       "    </tr>\n",
       "  </tbody>\n",
       "</table>\n",
       "</div>"
      ],
      "text/plain": [
       "                                              price\n",
       "Category          Sub_Category                     \n",
       "Arts & Crafts      Children's Craft Kits   4.399091\n",
       "Bedding & Linens   Children's Bedding      7.490000"
      ]
     },
     "execution_count": 36,
     "metadata": {},
     "output_type": "execute_result"
    }
   ],
   "source": [
    "# average price of products with the highest number of answered questions in each category and subcategory\n",
    "\n",
    "df[(df['number_of_answered_questions']==df['number_of_answered_questions'].max())].groupby(['Category', 'Sub_Category'])\\\n",
    "                                        ['price'].mean().to_frame()"
   ]
  },
  {
   "cell_type": "code",
   "execution_count": null,
   "id": "e5a85b25",
   "metadata": {},
   "outputs": [],
   "source": []
  },
  {
   "cell_type": "code",
   "execution_count": 42,
   "id": "74fc9a04",
   "metadata": {},
   "outputs": [
    {
     "data": {
      "text/html": [
       "<div>\n",
       "<style scoped>\n",
       "    .dataframe tbody tr th:only-of-type {\n",
       "        vertical-align: middle;\n",
       "    }\n",
       "\n",
       "    .dataframe tbody tr th {\n",
       "        vertical-align: top;\n",
       "    }\n",
       "\n",
       "    .dataframe thead th {\n",
       "        text-align: right;\n",
       "    }\n",
       "</style>\n",
       "<table border=\"1\" class=\"dataframe\">\n",
       "  <thead>\n",
       "    <tr style=\"text-align: right;\">\n",
       "      <th></th>\n",
       "      <th></th>\n",
       "      <th></th>\n",
       "      <th>number_of_reviews</th>\n",
       "      <th>average_review_rating</th>\n",
       "    </tr>\n",
       "    <tr>\n",
       "      <th>Category</th>\n",
       "      <th>Sub_Category</th>\n",
       "      <th></th>\n",
       "      <th></th>\n",
       "      <th></th>\n",
       "    </tr>\n",
       "  </thead>\n",
       "  <tbody>\n",
       "    <tr>\n",
       "      <th rowspan=\"5\" valign=\"top\">Arts &amp; Crafts</th>\n",
       "      <th rowspan=\"2\" valign=\"top\">Art &amp; Craft Supplies</th>\n",
       "      <th>number_of_reviews</th>\n",
       "      <td>1.000000</td>\n",
       "      <td>NaN</td>\n",
       "    </tr>\n",
       "    <tr>\n",
       "      <th>average_review_rating</th>\n",
       "      <td>NaN</td>\n",
       "      <td>NaN</td>\n",
       "    </tr>\n",
       "    <tr>\n",
       "      <th rowspan=\"2\" valign=\"top\">Art Sand</th>\n",
       "      <th>number_of_reviews</th>\n",
       "      <td>1.000000</td>\n",
       "      <td>-0.137916</td>\n",
       "    </tr>\n",
       "    <tr>\n",
       "      <th>average_review_rating</th>\n",
       "      <td>-0.137916</td>\n",
       "      <td>1.000000</td>\n",
       "    </tr>\n",
       "    <tr>\n",
       "      <th>Blackboards</th>\n",
       "      <th>number_of_reviews</th>\n",
       "      <td>1.000000</td>\n",
       "      <td>-0.224012</td>\n",
       "    </tr>\n",
       "    <tr>\n",
       "      <th>...</th>\n",
       "      <th>...</th>\n",
       "      <th>...</th>\n",
       "      <td>...</td>\n",
       "      <td>...</td>\n",
       "    </tr>\n",
       "    <tr>\n",
       "      <th rowspan=\"3\" valign=\"top\">Women</th>\n",
       "      <th>Accessories</th>\n",
       "      <th>average_review_rating</th>\n",
       "      <td>NaN</td>\n",
       "      <td>NaN</td>\n",
       "    </tr>\n",
       "    <tr>\n",
       "      <th rowspan=\"2\" valign=\"top\">Accessories</th>\n",
       "      <th>number_of_reviews</th>\n",
       "      <td>NaN</td>\n",
       "      <td>NaN</td>\n",
       "    </tr>\n",
       "    <tr>\n",
       "      <th>average_review_rating</th>\n",
       "      <td>NaN</td>\n",
       "      <td>NaN</td>\n",
       "    </tr>\n",
       "    <tr>\n",
       "      <th rowspan=\"2\" valign=\"top\">Worlds Apart</th>\n",
       "      <th rowspan=\"2\" valign=\"top\">Kid Venture</th>\n",
       "      <th>number_of_reviews</th>\n",
       "      <td>1.000000</td>\n",
       "      <td>-0.944911</td>\n",
       "    </tr>\n",
       "    <tr>\n",
       "      <th>average_review_rating</th>\n",
       "      <td>-0.944911</td>\n",
       "      <td>1.000000</td>\n",
       "    </tr>\n",
       "  </tbody>\n",
       "</table>\n",
       "<p>310 rows × 2 columns</p>\n",
       "</div>"
      ],
      "text/plain": [
       "                                                             number_of_reviews  \\\n",
       "Category       Sub_Category                                                      \n",
       "Arts & Crafts   Art & Craft Supplies  number_of_reviews               1.000000   \n",
       "                                      average_review_rating                NaN   \n",
       "                Art Sand              number_of_reviews               1.000000   \n",
       "                                      average_review_rating          -0.137916   \n",
       "                Blackboards           number_of_reviews               1.000000   \n",
       "...                                                                        ...   \n",
       "Women           Accessories           average_review_rating                NaN   \n",
       "                Accessories           number_of_reviews                    NaN   \n",
       "                                      average_review_rating                NaN   \n",
       "Worlds Apart    Kid Venture           number_of_reviews               1.000000   \n",
       "                                      average_review_rating          -0.944911   \n",
       "\n",
       "                                                             average_review_rating  \n",
       "Category       Sub_Category                                                         \n",
       "Arts & Crafts   Art & Craft Supplies  number_of_reviews                        NaN  \n",
       "                                      average_review_rating                    NaN  \n",
       "                Art Sand              number_of_reviews                  -0.137916  \n",
       "                                      average_review_rating               1.000000  \n",
       "                Blackboards           number_of_reviews                  -0.224012  \n",
       "...                                                                            ...  \n",
       "Women           Accessories           average_review_rating                    NaN  \n",
       "                Accessories           number_of_reviews                        NaN  \n",
       "                                      average_review_rating                    NaN  \n",
       "Worlds Apart    Kid Venture           number_of_reviews                  -0.944911  \n",
       "                                      average_review_rating               1.000000  \n",
       "\n",
       "[310 rows x 2 columns]"
      ]
     },
     "execution_count": 42,
     "metadata": {},
     "output_type": "execute_result"
    }
   ],
   "source": [
    "# correlation between the number of reviews and the review rating for products in each category and subcategory\n",
    "\n",
    "x2 = df.groupby(['Category', 'Sub_Category'])[['number_of_reviews', 'average_review_rating']].corr()\n",
    "x2"
   ]
  },
  {
   "cell_type": "code",
   "execution_count": 28,
   "id": "d7d23b9c",
   "metadata": {},
   "outputs": [
    {
     "data": {
      "text/html": [
       "<div>\n",
       "<style scoped>\n",
       "    .dataframe tbody tr th:only-of-type {\n",
       "        vertical-align: middle;\n",
       "    }\n",
       "\n",
       "    .dataframe tbody tr th {\n",
       "        vertical-align: top;\n",
       "    }\n",
       "\n",
       "    .dataframe thead th {\n",
       "        text-align: right;\n",
       "    }\n",
       "</style>\n",
       "<table border=\"1\" class=\"dataframe\">\n",
       "  <thead>\n",
       "    <tr style=\"text-align: right;\">\n",
       "      <th></th>\n",
       "      <th></th>\n",
       "      <th></th>\n",
       "      <th>number_of_reviews</th>\n",
       "      <th>price</th>\n",
       "    </tr>\n",
       "    <tr>\n",
       "      <th>Category</th>\n",
       "      <th>Sub_Category</th>\n",
       "      <th></th>\n",
       "      <th></th>\n",
       "      <th></th>\n",
       "    </tr>\n",
       "  </thead>\n",
       "  <tbody>\n",
       "    <tr>\n",
       "      <th rowspan=\"5\" valign=\"top\">Arts &amp; Crafts</th>\n",
       "      <th rowspan=\"2\" valign=\"top\">Art &amp; Craft Supplies</th>\n",
       "      <th>number_of_reviews</th>\n",
       "      <td>1.000000</td>\n",
       "      <td>1.000000</td>\n",
       "    </tr>\n",
       "    <tr>\n",
       "      <th>price</th>\n",
       "      <td>1.000000</td>\n",
       "      <td>1.000000</td>\n",
       "    </tr>\n",
       "    <tr>\n",
       "      <th rowspan=\"2\" valign=\"top\">Art Sand</th>\n",
       "      <th>number_of_reviews</th>\n",
       "      <td>1.000000</td>\n",
       "      <td>0.174675</td>\n",
       "    </tr>\n",
       "    <tr>\n",
       "      <th>price</th>\n",
       "      <td>0.174675</td>\n",
       "      <td>1.000000</td>\n",
       "    </tr>\n",
       "    <tr>\n",
       "      <th>Blackboards</th>\n",
       "      <th>number_of_reviews</th>\n",
       "      <td>1.000000</td>\n",
       "      <td>-0.272003</td>\n",
       "    </tr>\n",
       "    <tr>\n",
       "      <th>...</th>\n",
       "      <th>...</th>\n",
       "      <th>...</th>\n",
       "      <td>...</td>\n",
       "      <td>...</td>\n",
       "    </tr>\n",
       "    <tr>\n",
       "      <th rowspan=\"3\" valign=\"top\">Women</th>\n",
       "      <th>Accessories</th>\n",
       "      <th>price</th>\n",
       "      <td>NaN</td>\n",
       "      <td>NaN</td>\n",
       "    </tr>\n",
       "    <tr>\n",
       "      <th rowspan=\"2\" valign=\"top\">Accessories</th>\n",
       "      <th>number_of_reviews</th>\n",
       "      <td>NaN</td>\n",
       "      <td>NaN</td>\n",
       "    </tr>\n",
       "    <tr>\n",
       "      <th>price</th>\n",
       "      <td>NaN</td>\n",
       "      <td>NaN</td>\n",
       "    </tr>\n",
       "    <tr>\n",
       "      <th rowspan=\"2\" valign=\"top\">Worlds Apart</th>\n",
       "      <th rowspan=\"2\" valign=\"top\">Kid Venture</th>\n",
       "      <th>number_of_reviews</th>\n",
       "      <td>1.000000</td>\n",
       "      <td>0.981799</td>\n",
       "    </tr>\n",
       "    <tr>\n",
       "      <th>price</th>\n",
       "      <td>0.981799</td>\n",
       "      <td>1.000000</td>\n",
       "    </tr>\n",
       "  </tbody>\n",
       "</table>\n",
       "<p>310 rows × 2 columns</p>\n",
       "</div>"
      ],
      "text/plain": [
       "                                                         number_of_reviews  \\\n",
       "Category       Sub_Category                                                  \n",
       "Arts & Crafts   Art & Craft Supplies  number_of_reviews           1.000000   \n",
       "                                      price                       1.000000   \n",
       "                Art Sand              number_of_reviews           1.000000   \n",
       "                                      price                       0.174675   \n",
       "                Blackboards           number_of_reviews           1.000000   \n",
       "...                                                                    ...   \n",
       "Women           Accessories           price                            NaN   \n",
       "                Accessories           number_of_reviews                NaN   \n",
       "                                      price                            NaN   \n",
       "Worlds Apart    Kid Venture           number_of_reviews           1.000000   \n",
       "                                      price                       0.981799   \n",
       "\n",
       "                                                            price  \n",
       "Category       Sub_Category                                        \n",
       "Arts & Crafts   Art & Craft Supplies  number_of_reviews  1.000000  \n",
       "                                      price              1.000000  \n",
       "                Art Sand              number_of_reviews  0.174675  \n",
       "                                      price              1.000000  \n",
       "                Blackboards           number_of_reviews -0.272003  \n",
       "...                                                           ...  \n",
       "Women           Accessories           price                   NaN  \n",
       "                Accessories           number_of_reviews       NaN  \n",
       "                                      price                   NaN  \n",
       "Worlds Apart    Kid Venture           number_of_reviews  0.981799  \n",
       "                                      price              1.000000  \n",
       "\n",
       "[310 rows x 2 columns]"
      ]
     },
     "execution_count": 28,
     "metadata": {},
     "output_type": "execute_result"
    }
   ],
   "source": [
    "# correlation between the number of reviews and the review rating for products in each category and subcategory\n",
    "\n",
    "df.groupby(['Category', 'Sub_Category'])[['number_of_reviews', 'price']].corr()"
   ]
  },
  {
   "cell_type": "code",
   "execution_count": 29,
   "id": "e3e10709",
   "metadata": {},
   "outputs": [
    {
     "data": {
      "text/html": [
       "<div>\n",
       "<style scoped>\n",
       "    .dataframe tbody tr th:only-of-type {\n",
       "        vertical-align: middle;\n",
       "    }\n",
       "\n",
       "    .dataframe tbody tr th {\n",
       "        vertical-align: top;\n",
       "    }\n",
       "\n",
       "    .dataframe thead th {\n",
       "        text-align: right;\n",
       "    }\n",
       "</style>\n",
       "<table border=\"1\" class=\"dataframe\">\n",
       "  <thead>\n",
       "    <tr style=\"text-align: right;\">\n",
       "      <th></th>\n",
       "      <th></th>\n",
       "      <th>price</th>\n",
       "    </tr>\n",
       "    <tr>\n",
       "      <th>Category</th>\n",
       "      <th>Sub_Category</th>\n",
       "      <th></th>\n",
       "    </tr>\n",
       "  </thead>\n",
       "  <tbody>\n",
       "    <tr>\n",
       "      <th rowspan=\"5\" valign=\"top\">Arts &amp; Crafts</th>\n",
       "      <th>Art &amp; Craft Supplies</th>\n",
       "      <td>7.290000</td>\n",
       "    </tr>\n",
       "    <tr>\n",
       "      <th>Art Sand</th>\n",
       "      <td>9.458421</td>\n",
       "    </tr>\n",
       "    <tr>\n",
       "      <th>Blackboards</th>\n",
       "      <td>26.576000</td>\n",
       "    </tr>\n",
       "    <tr>\n",
       "      <th>Children's Chalk</th>\n",
       "      <td>4.990000</td>\n",
       "    </tr>\n",
       "    <tr>\n",
       "      <th>Children's Craft Kits</th>\n",
       "      <td>12.405263</td>\n",
       "    </tr>\n",
       "    <tr>\n",
       "      <th>...</th>\n",
       "      <th>...</th>\n",
       "      <td>...</td>\n",
       "    </tr>\n",
       "    <tr>\n",
       "      <th rowspan=\"4\" valign=\"top\">Sports Toys &amp; Outdoor</th>\n",
       "      <th>Darts &amp; Accessories</th>\n",
       "      <td>23.825714</td>\n",
       "    </tr>\n",
       "    <tr>\n",
       "      <th>Garden Tools</th>\n",
       "      <td>25.720000</td>\n",
       "    </tr>\n",
       "    <tr>\n",
       "      <th>Kites &amp; Flight Toys</th>\n",
       "      <td>26.842632</td>\n",
       "    </tr>\n",
       "    <tr>\n",
       "      <th>Target Games</th>\n",
       "      <td>26.990000</td>\n",
       "    </tr>\n",
       "    <tr>\n",
       "      <th>Worlds Apart</th>\n",
       "      <th>Kid Venture</th>\n",
       "      <td>11.970000</td>\n",
       "    </tr>\n",
       "  </tbody>\n",
       "</table>\n",
       "<p>113 rows × 1 columns</p>\n",
       "</div>"
      ],
      "text/plain": [
       "                                                   price\n",
       "Category               Sub_Category                     \n",
       "Arts & Crafts           Art & Craft Supplies    7.290000\n",
       "                        Art Sand                9.458421\n",
       "                        Blackboards            26.576000\n",
       "                        Children's Chalk        4.990000\n",
       "                        Children's Craft Kits  12.405263\n",
       "...                                                  ...\n",
       "Sports Toys & Outdoor   Darts & Accessories    23.825714\n",
       "                        Garden Tools           25.720000\n",
       "                        Kites & Flight Toys    26.842632\n",
       "                        Target Games           26.990000\n",
       "Worlds Apart            Kid Venture            11.970000\n",
       "\n",
       "[113 rows x 1 columns]"
      ]
     },
     "execution_count": 29,
     "metadata": {},
     "output_type": "execute_result"
    }
   ],
   "source": [
    "df[(df['average_review_rating']==df['average_review_rating'].max()) | (df['average_review_rating']==df['average_review_rating'].min())].groupby(['Category', 'Sub_Category'])\\\n",
    "                                    ['price'].mean().to_frame()\n"
   ]
  },
  {
   "cell_type": "code",
   "execution_count": 30,
   "id": "67561d86",
   "metadata": {},
   "outputs": [
    {
     "data": {
      "text/html": [
       "<div>\n",
       "<style scoped>\n",
       "    .dataframe tbody tr th:only-of-type {\n",
       "        vertical-align: middle;\n",
       "    }\n",
       "\n",
       "    .dataframe tbody tr th {\n",
       "        vertical-align: top;\n",
       "    }\n",
       "\n",
       "    .dataframe thead th {\n",
       "        text-align: right;\n",
       "    }\n",
       "</style>\n",
       "<table border=\"1\" class=\"dataframe\">\n",
       "  <thead>\n",
       "    <tr style=\"text-align: right;\">\n",
       "      <th></th>\n",
       "      <th></th>\n",
       "      <th>price</th>\n",
       "    </tr>\n",
       "    <tr>\n",
       "      <th>Category</th>\n",
       "      <th>Sub_Category</th>\n",
       "      <th></th>\n",
       "    </tr>\n",
       "  </thead>\n",
       "  <tbody>\n",
       "    <tr>\n",
       "      <th rowspan=\"5\" valign=\"top\">Arts &amp; Crafts</th>\n",
       "      <th>Art Sand</th>\n",
       "      <td>31</td>\n",
       "    </tr>\n",
       "    <tr>\n",
       "      <th>Blackboards</th>\n",
       "      <td>6</td>\n",
       "    </tr>\n",
       "    <tr>\n",
       "      <th>Children's Chalk</th>\n",
       "      <td>2</td>\n",
       "    </tr>\n",
       "    <tr>\n",
       "      <th>Children's Craft Kits</th>\n",
       "      <td>30</td>\n",
       "    </tr>\n",
       "    <tr>\n",
       "      <th>Children's Craft Kits</th>\n",
       "      <td>142</td>\n",
       "    </tr>\n",
       "    <tr>\n",
       "      <th>...</th>\n",
       "      <th>...</th>\n",
       "      <td>...</td>\n",
       "    </tr>\n",
       "    <tr>\n",
       "      <th>Supporters' Gear</th>\n",
       "      <th>Football</th>\n",
       "      <td>1</td>\n",
       "    </tr>\n",
       "    <tr>\n",
       "      <th>Sweets, Chocolate &amp; Gum</th>\n",
       "      <th>Chocolate</th>\n",
       "      <td>1</td>\n",
       "    </tr>\n",
       "    <tr>\n",
       "      <th rowspan=\"2\" valign=\"top\">Women</th>\n",
       "      <th>Accessories</th>\n",
       "      <td>1</td>\n",
       "    </tr>\n",
       "    <tr>\n",
       "      <th>Accessories</th>\n",
       "      <td>1</td>\n",
       "    </tr>\n",
       "    <tr>\n",
       "      <th>Worlds Apart</th>\n",
       "      <th>Kid Venture</th>\n",
       "      <td>1</td>\n",
       "    </tr>\n",
       "  </tbody>\n",
       "</table>\n",
       "<p>132 rows × 1 columns</p>\n",
       "</div>"
      ],
      "text/plain": [
       "                                                  price\n",
       "Category                 Sub_Category                  \n",
       "Arts & Crafts             Art Sand                   31\n",
       "                          Blackboards                 6\n",
       "                          Children's Chalk            2\n",
       "                          Children's Craft Kits      30\n",
       "                          Children's Craft Kits     142\n",
       "...                                                 ...\n",
       "Supporters' Gear          Football                    1\n",
       "Sweets, Chocolate & Gum   Chocolate                   1\n",
       "Women                     Accessories                 1\n",
       "                          Accessories                 1\n",
       "Worlds Apart              Kid Venture                 1\n",
       "\n",
       "[132 rows x 1 columns]"
      ]
     },
     "execution_count": 30,
     "metadata": {},
     "output_type": "execute_result"
    }
   ],
   "source": [
    "# products have a review rating that is significantly lower than the average review rating for their category and subcategory, and what are their names and prices\n",
    "\n",
    "df[(df['average_review_rating']<df['average_review_rating'].mean())].groupby(['Category', 'Sub_Category'])\\\n",
    "                                    ['price'].count().to_frame()\n"
   ]
  },
  {
   "cell_type": "code",
   "execution_count": 31,
   "id": "d8ccb70f",
   "metadata": {},
   "outputs": [],
   "source": [
    "#average review rating for products with different availability statuses\n",
    "\n",
    "a=df[df['number_available_in_stock']>0]['average_review_rating'].mean()"
   ]
  },
  {
   "cell_type": "code",
   "execution_count": 32,
   "id": "990e3a37",
   "metadata": {},
   "outputs": [],
   "source": [
    "b=df[df['number_available_in_stock']==0]['average_review_rating'].mean()"
   ]
  },
  {
   "cell_type": "code",
   "execution_count": 33,
   "id": "112fb24c",
   "metadata": {},
   "outputs": [
    {
     "data": {
      "text/plain": [
       "0.0648133350245379"
      ]
     },
     "execution_count": 33,
     "metadata": {},
     "output_type": "execute_result"
    }
   ],
   "source": [
    "# there is no significant in average review rating between products that are in stock and out of stock.\n",
    "\n",
    "Diff = abs(a-b)\n",
    "Diff"
   ]
  },
  {
   "cell_type": "markdown",
   "id": "7593f7d7",
   "metadata": {},
   "source": [
    "### No of Products by Category"
   ]
  },
  {
   "cell_type": "code",
   "execution_count": 49,
   "id": "00f018c9",
   "metadata": {},
   "outputs": [
    {
     "data": {
      "text/plain": [
       "(array([0, 1, 2, 3, 4, 5, 6, 7, 8, 9]),\n",
       " [Text(0, 0, 'Hobbies '),\n",
       "  Text(1, 0, 'Die-Cast & Toy Vehicles '),\n",
       "  Text(2, 0, 'Figures & Playsets '),\n",
       "  Text(3, 0, 'Games '),\n",
       "  Text(4, 0, 'Characters & Brands '),\n",
       "  Text(5, 0, 'Arts & Crafts '),\n",
       "  Text(6, 0, 'Party Supplies '),\n",
       "  Text(7, 0, 'Fancy Dress '),\n",
       "  Text(8, 0, 'Dolls & Accessories '),\n",
       "  Text(9, 0, 'Sports Toys & Outdoor ')])"
      ]
     },
     "execution_count": 49,
     "metadata": {},
     "output_type": "execute_result"
    },
    {
     "data": {
      "image/png": "[encoded data removed]",
      "text/plain": [
       "<Figure size 576x432 with 1 Axes>"
      ]
     },
     "metadata": {
      "needs_background": "light"
     },
     "output_type": "display_data"
    }
   ],
   "source": [
    "df2 = df.groupby('Category')['product_name'].count().to_frame().sort_values('product_name', ascending=False).reset_index().head(10)\n",
    "\n",
    "pal = sns.color_palette(\"dark:salmon_r\")\n",
    "plt.figure(figsize=(8,6))\n",
    "sns.barplot(data=df2, x='Category', y='product_name', palette=pal )\n",
    "plt.title('No of Products by Category')\n",
    "plt.xlabel('Category')\n",
    "plt.ylabel('No of Products')\n",
    "plt.xticks(rotation=90)"
   ]
  },
  {
   "cell_type": "markdown",
   "id": "14a49347",
   "metadata": {},
   "source": [
    "### Top 10 Movies by Reviews"
   ]
  },
  {
   "cell_type": "code",
   "execution_count": 61,
   "id": "136f1620",
   "metadata": {},
   "outputs": [
    {
     "data": {
      "text/plain": [
       "Text(0.5, 1.0, 'Top 10 Movies by Reviews')"
      ]
     },
     "execution_count": 61,
     "metadata": {},
     "output_type": "execute_result"
    },
    {
     "data": {
      "image/png": "[encoded data removed]",
      "text/plain": [
       "<Figure size 576x432 with 1 Axes>"
      ]
     },
     "metadata": {
      "needs_background": "light"
     },
     "output_type": "display_data"
    }
   ],
   "source": [
    "df3 = df[(df['average_review_rating']==df['average_review_rating']) & (df['number_of_reviews']>df['number_of_reviews'].mean())].sort_values('number_of_reviews', ascending=False).head(10)\n",
    "\n",
    "pal = sns.color_palette(\"dark:salmon_r\")\n",
    "plt.figure(figsize=(8, 6))\n",
    "sns.barplot(data = df3, x='product_name', y='number_of_reviews', palette=pal)\n",
    "plt.xticks(rotation=90)\n",
    "plt.title('Top 10 Movies by Reviews')"
   ]
  },
  {
   "cell_type": "markdown",
   "id": "9230d18e",
   "metadata": {},
   "source": [
    "### Rating VS Number of Reviews"
   ]
  },
  {
   "cell_type": "code",
   "execution_count": 52,
   "id": "88de5e2c",
   "metadata": {},
   "outputs": [
    {
     "data": {
      "text/plain": [
       "Text(0.5, 1.0, 'Rating VS Number of Reviews')"
      ]
     },
     "execution_count": 52,
     "metadata": {},
     "output_type": "execute_result"
    },
    {
     "data": {
      "image/png": "[encoded data removed]",
      "text/plain": [
       "<Figure size 576x432 with 1 Axes>"
      ]
     },
     "metadata": {
      "needs_background": "light"
     },
     "output_type": "display_data"
    }
   ],
   "source": [
    "plt.figure(figsize=(8, 6))\n",
    "sns.scatterplot(data=df, x='number_of_reviews', y='average_review_rating')\n",
    "plt.title('Rating VS Number of Reviews')"
   ]
  }
 ],
 "metadata": {
  "kernelspec": {
   "display_name": "Python 3 (ipykernel)",
   "language": "python",
   "name": "python3"
  },
  "language_info": {
   "codemirror_mode": {
    "name": "ipython",
    "version": 3
   },
   "file_extension": ".py",
   "mimetype": "text/x-python",
   "name": "python",
   "nbconvert_exporter": "python",
   "pygments_lexer": "ipython3",
   "version": "3.9.12"
  }
 },
 "nbformat": 4,
 "nbformat_minor": 5
}
